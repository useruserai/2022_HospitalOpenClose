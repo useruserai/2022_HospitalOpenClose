{
  "nbformat": 4,
  "nbformat_minor": 0,
  "metadata": {
    "colab": {
      "provenance": [],
      "collapsed_sections": [
        "sjTQKv_j3CyZ",
        "UwhKbuHp3NBj",
        "u0Y-EX5M3SV0",
        "i_pYPUNG3Wc5",
        "7EPeygD5Df2b",
        "ax8AnkqJ7b6r",
        "acd92hSZ4DUv",
        "z4kygeejQ8Bg",
        "jMtdeq326McC",
        "BkdxaVut331Q",
        "zqLa-iRP4cxh",
        "h62U6fvr_cre",
        "dpWlthnfAM_l"
      ]
    },
    "kernelspec": {
      "name": "python3",
      "display_name": "Python 3"
    },
    "language_info": {
      "name": "python"
    }
  },
  "cells": [
    {
      "cell_type": "code",
      "execution_count": null,
      "metadata": {
        "id": "8iTD0gfFEOv8"
      },
      "outputs": [],
      "source": [
        "import pandas as pd\n",
        "import numpy as np\n",
        "from sklearn.linear_model import LogisticRegression\n",
        "import matplotlib.pyplot as plt"
      ]
    },
    {
      "cell_type": "markdown",
      "source": [
        "#1.데이터 불러오기"
      ],
      "metadata": {
        "id": "sjTQKv_j3CyZ"
      }
    },
    {
      "cell_type": "code",
      "source": [
        "hospital = pd.read_csv(\"train.csv\")"
      ],
      "metadata": {
        "id": "2b4qajq6EQyV"
      },
      "execution_count": null,
      "outputs": []
    },
    {
      "cell_type": "code",
      "source": [
        "hospital.head()"
      ],
      "metadata": {
        "colab": {
          "base_uri": "https://localhost:8080/",
          "height": 300
        },
        "id": "hXhqbUFWEeTz",
        "outputId": "b861ecb1-de38-432d-fec1-4a4d7707d9f2"
      },
      "execution_count": null,
      "outputs": [
        {
          "output_type": "execute_result",
          "data": {
            "text/plain": [
              "   inst_id    OC       sido  sgg  openDate  bedCount          instkind  \\\n",
              "0        1  open  choongnam   73  20071228     175.0  nursing_hospital   \n",
              "1        3  open  gyeongnam   32  19970401     410.0  general_hospital   \n",
              "2        4  open   gyeonggi   89  20161228     468.0  nursing_hospital   \n",
              "3        7  open    incheon  141  20000814     353.0  general_hospital   \n",
              "4        9  open  gyeongnam   32  20050901     196.0  general_hospital   \n",
              "\n",
              "       revenue1   salescost1          sga1  ...         debt2  \\\n",
              "0  4.217530e+09          0.0  3.961135e+09  ...  7.589937e+08   \n",
              "1           NaN          NaN           NaN  ...           NaN   \n",
              "2  1.004522e+09  515483669.0  4.472197e+08  ...  0.000000e+00   \n",
              "3  7.250734e+10          0.0  7.067740e+10  ...  3.775501e+10   \n",
              "4  4.904354e+10          0.0  4.765605e+10  ...  5.143259e+10   \n",
              "\n",
              "   liquidLiabilities2    shortLoan2  NCLiabilities2     longLoan2  \\\n",
              "0        2.228769e+08  0.000000e+00    5.361169e+08  3.900000e+08   \n",
              "1                 NaN           NaN             NaN           NaN   \n",
              "2        0.000000e+00  0.000000e+00    0.000000e+00  0.000000e+00   \n",
              "3        1.701860e+10  9.219427e+09    2.073641e+10  1.510000e+10   \n",
              "4        3.007259e+10  1.759375e+10    2.136001e+10  1.410803e+10   \n",
              "\n",
              "      netAsset2      surplus2  employee1  employee2  ownerChange  \n",
              "0  2.619290e+09  1.271224e+09       62.0       64.0         same  \n",
              "1           NaN           NaN      801.0      813.0         same  \n",
              "2  0.000000e+00  0.000000e+00      234.0        1.0         same  \n",
              "3  1.295427e+10  7.740829e+09      663.0      663.0         same  \n",
              "4  5.561941e+06  9.025550e+09      206.0      197.0         same  \n",
              "\n",
              "[5 rows x 58 columns]"
            ],
            "text/html": [
              "\n",
              "  <div id=\"df-cf0a249a-2fa5-4ba5-a6c0-23dfb196f035\">\n",
              "    <div class=\"colab-df-container\">\n",
              "      <div>\n",
              "<style scoped>\n",
              "    .dataframe tbody tr th:only-of-type {\n",
              "        vertical-align: middle;\n",
              "    }\n",
              "\n",
              "    .dataframe tbody tr th {\n",
              "        vertical-align: top;\n",
              "    }\n",
              "\n",
              "    .dataframe thead th {\n",
              "        text-align: right;\n",
              "    }\n",
              "</style>\n",
              "<table border=\"1\" class=\"dataframe\">\n",
              "  <thead>\n",
              "    <tr style=\"text-align: right;\">\n",
              "      <th></th>\n",
              "      <th>inst_id</th>\n",
              "      <th>OC</th>\n",
              "      <th>sido</th>\n",
              "      <th>sgg</th>\n",
              "      <th>openDate</th>\n",
              "      <th>bedCount</th>\n",
              "      <th>instkind</th>\n",
              "      <th>revenue1</th>\n",
              "      <th>salescost1</th>\n",
              "      <th>sga1</th>\n",
              "      <th>...</th>\n",
              "      <th>debt2</th>\n",
              "      <th>liquidLiabilities2</th>\n",
              "      <th>shortLoan2</th>\n",
              "      <th>NCLiabilities2</th>\n",
              "      <th>longLoan2</th>\n",
              "      <th>netAsset2</th>\n",
              "      <th>surplus2</th>\n",
              "      <th>employee1</th>\n",
              "      <th>employee2</th>\n",
              "      <th>ownerChange</th>\n",
              "    </tr>\n",
              "  </thead>\n",
              "  <tbody>\n",
              "    <tr>\n",
              "      <th>0</th>\n",
              "      <td>1</td>\n",
              "      <td>open</td>\n",
              "      <td>choongnam</td>\n",
              "      <td>73</td>\n",
              "      <td>20071228</td>\n",
              "      <td>175.0</td>\n",
              "      <td>nursing_hospital</td>\n",
              "      <td>4.217530e+09</td>\n",
              "      <td>0.0</td>\n",
              "      <td>3.961135e+09</td>\n",
              "      <td>...</td>\n",
              "      <td>7.589937e+08</td>\n",
              "      <td>2.228769e+08</td>\n",
              "      <td>0.000000e+00</td>\n",
              "      <td>5.361169e+08</td>\n",
              "      <td>3.900000e+08</td>\n",
              "      <td>2.619290e+09</td>\n",
              "      <td>1.271224e+09</td>\n",
              "      <td>62.0</td>\n",
              "      <td>64.0</td>\n",
              "      <td>same</td>\n",
              "    </tr>\n",
              "    <tr>\n",
              "      <th>1</th>\n",
              "      <td>3</td>\n",
              "      <td>open</td>\n",
              "      <td>gyeongnam</td>\n",
              "      <td>32</td>\n",
              "      <td>19970401</td>\n",
              "      <td>410.0</td>\n",
              "      <td>general_hospital</td>\n",
              "      <td>NaN</td>\n",
              "      <td>NaN</td>\n",
              "      <td>NaN</td>\n",
              "      <td>...</td>\n",
              "      <td>NaN</td>\n",
              "      <td>NaN</td>\n",
              "      <td>NaN</td>\n",
              "      <td>NaN</td>\n",
              "      <td>NaN</td>\n",
              "      <td>NaN</td>\n",
              "      <td>NaN</td>\n",
              "      <td>801.0</td>\n",
              "      <td>813.0</td>\n",
              "      <td>same</td>\n",
              "    </tr>\n",
              "    <tr>\n",
              "      <th>2</th>\n",
              "      <td>4</td>\n",
              "      <td>open</td>\n",
              "      <td>gyeonggi</td>\n",
              "      <td>89</td>\n",
              "      <td>20161228</td>\n",
              "      <td>468.0</td>\n",
              "      <td>nursing_hospital</td>\n",
              "      <td>1.004522e+09</td>\n",
              "      <td>515483669.0</td>\n",
              "      <td>4.472197e+08</td>\n",
              "      <td>...</td>\n",
              "      <td>0.000000e+00</td>\n",
              "      <td>0.000000e+00</td>\n",
              "      <td>0.000000e+00</td>\n",
              "      <td>0.000000e+00</td>\n",
              "      <td>0.000000e+00</td>\n",
              "      <td>0.000000e+00</td>\n",
              "      <td>0.000000e+00</td>\n",
              "      <td>234.0</td>\n",
              "      <td>1.0</td>\n",
              "      <td>same</td>\n",
              "    </tr>\n",
              "    <tr>\n",
              "      <th>3</th>\n",
              "      <td>7</td>\n",
              "      <td>open</td>\n",
              "      <td>incheon</td>\n",
              "      <td>141</td>\n",
              "      <td>20000814</td>\n",
              "      <td>353.0</td>\n",
              "      <td>general_hospital</td>\n",
              "      <td>7.250734e+10</td>\n",
              "      <td>0.0</td>\n",
              "      <td>7.067740e+10</td>\n",
              "      <td>...</td>\n",
              "      <td>3.775501e+10</td>\n",
              "      <td>1.701860e+10</td>\n",
              "      <td>9.219427e+09</td>\n",
              "      <td>2.073641e+10</td>\n",
              "      <td>1.510000e+10</td>\n",
              "      <td>1.295427e+10</td>\n",
              "      <td>7.740829e+09</td>\n",
              "      <td>663.0</td>\n",
              "      <td>663.0</td>\n",
              "      <td>same</td>\n",
              "    </tr>\n",
              "    <tr>\n",
              "      <th>4</th>\n",
              "      <td>9</td>\n",
              "      <td>open</td>\n",
              "      <td>gyeongnam</td>\n",
              "      <td>32</td>\n",
              "      <td>20050901</td>\n",
              "      <td>196.0</td>\n",
              "      <td>general_hospital</td>\n",
              "      <td>4.904354e+10</td>\n",
              "      <td>0.0</td>\n",
              "      <td>4.765605e+10</td>\n",
              "      <td>...</td>\n",
              "      <td>5.143259e+10</td>\n",
              "      <td>3.007259e+10</td>\n",
              "      <td>1.759375e+10</td>\n",
              "      <td>2.136001e+10</td>\n",
              "      <td>1.410803e+10</td>\n",
              "      <td>5.561941e+06</td>\n",
              "      <td>9.025550e+09</td>\n",
              "      <td>206.0</td>\n",
              "      <td>197.0</td>\n",
              "      <td>same</td>\n",
              "    </tr>\n",
              "  </tbody>\n",
              "</table>\n",
              "<p>5 rows × 58 columns</p>\n",
              "</div>\n",
              "      <button class=\"colab-df-convert\" onclick=\"convertToInteractive('df-cf0a249a-2fa5-4ba5-a6c0-23dfb196f035')\"\n",
              "              title=\"Convert this dataframe to an interactive table.\"\n",
              "              style=\"display:none;\">\n",
              "        \n",
              "  <svg xmlns=\"http://www.w3.org/2000/svg\" height=\"24px\"viewBox=\"0 0 24 24\"\n",
              "       width=\"24px\">\n",
              "    <path d=\"M0 0h24v24H0V0z\" fill=\"none\"/>\n",
              "    <path d=\"M18.56 5.44l.94 2.06.94-2.06 2.06-.94-2.06-.94-.94-2.06-.94 2.06-2.06.94zm-11 1L8.5 8.5l.94-2.06 2.06-.94-2.06-.94L8.5 2.5l-.94 2.06-2.06.94zm10 10l.94 2.06.94-2.06 2.06-.94-2.06-.94-.94-2.06-.94 2.06-2.06.94z\"/><path d=\"M17.41 7.96l-1.37-1.37c-.4-.4-.92-.59-1.43-.59-.52 0-1.04.2-1.43.59L10.3 9.45l-7.72 7.72c-.78.78-.78 2.05 0 2.83L4 21.41c.39.39.9.59 1.41.59.51 0 1.02-.2 1.41-.59l7.78-7.78 2.81-2.81c.8-.78.8-2.07 0-2.86zM5.41 20L4 18.59l7.72-7.72 1.47 1.35L5.41 20z\"/>\n",
              "  </svg>\n",
              "      </button>\n",
              "      \n",
              "  <style>\n",
              "    .colab-df-container {\n",
              "      display:flex;\n",
              "      flex-wrap:wrap;\n",
              "      gap: 12px;\n",
              "    }\n",
              "\n",
              "    .colab-df-convert {\n",
              "      background-color: #E8F0FE;\n",
              "      border: none;\n",
              "      border-radius: 50%;\n",
              "      cursor: pointer;\n",
              "      display: none;\n",
              "      fill: #1967D2;\n",
              "      height: 32px;\n",
              "      padding: 0 0 0 0;\n",
              "      width: 32px;\n",
              "    }\n",
              "\n",
              "    .colab-df-convert:hover {\n",
              "      background-color: #E2EBFA;\n",
              "      box-shadow: 0px 1px 2px rgba(60, 64, 67, 0.3), 0px 1px 3px 1px rgba(60, 64, 67, 0.15);\n",
              "      fill: #174EA6;\n",
              "    }\n",
              "\n",
              "    [theme=dark] .colab-df-convert {\n",
              "      background-color: #3B4455;\n",
              "      fill: #D2E3FC;\n",
              "    }\n",
              "\n",
              "    [theme=dark] .colab-df-convert:hover {\n",
              "      background-color: #434B5C;\n",
              "      box-shadow: 0px 1px 3px 1px rgba(0, 0, 0, 0.15);\n",
              "      filter: drop-shadow(0px 1px 2px rgba(0, 0, 0, 0.3));\n",
              "      fill: #FFFFFF;\n",
              "    }\n",
              "  </style>\n",
              "\n",
              "      <script>\n",
              "        const buttonEl =\n",
              "          document.querySelector('#df-cf0a249a-2fa5-4ba5-a6c0-23dfb196f035 button.colab-df-convert');\n",
              "        buttonEl.style.display =\n",
              "          google.colab.kernel.accessAllowed ? 'block' : 'none';\n",
              "\n",
              "        async function convertToInteractive(key) {\n",
              "          const element = document.querySelector('#df-cf0a249a-2fa5-4ba5-a6c0-23dfb196f035');\n",
              "          const dataTable =\n",
              "            await google.colab.kernel.invokeFunction('convertToInteractive',\n",
              "                                                     [key], {});\n",
              "          if (!dataTable) return;\n",
              "\n",
              "          const docLinkHtml = 'Like what you see? Visit the ' +\n",
              "            '<a target=\"_blank\" href=https://colab.research.google.com/notebooks/data_table.ipynb>data table notebook</a>'\n",
              "            + ' to learn more about interactive tables.';\n",
              "          element.innerHTML = '';\n",
              "          dataTable['output_type'] = 'display_data';\n",
              "          await google.colab.output.renderOutput(dataTable, element);\n",
              "          const docLink = document.createElement('div');\n",
              "          docLink.innerHTML = docLinkHtml;\n",
              "          element.appendChild(docLink);\n",
              "        }\n",
              "      </script>\n",
              "    </div>\n",
              "  </div>\n",
              "  "
            ]
          },
          "metadata": {},
          "execution_count": 3
        }
      ]
    },
    {
      "cell_type": "markdown",
      "source": [
        "변수들이 너무 많아 보기어렵다.\n",
        "\n",
        "중요하다고 생각하는 변수 10개만 선정하여 학습 진행\n",
        "\n",
        "- 종속변수:\n",
        "OC- 개점 폐점\n",
        "\n",
        "- 독립변수 :\n",
        " \n",
        "openDate - 병워너 설립일\n",
        "\n",
        "bedCoount- 병원이 가진 병상의 수\n",
        "\n",
        "revenue1 - 매출액 2017\n",
        "\n",
        "salescost1 - 매출 원가\n",
        "\n",
        "sga1- 관리비\n",
        "\n",
        "salary- 급여\n",
        "\n",
        "liquidAsset1 - 유동자산\n",
        "\n",
        "nonCAsset1 - 비유동자산\n",
        "\n",
        "netAsset1 - 순자산총계\n",
        "\n",
        "surplus1- 이익잉여금\n",
        "\n",
        "\n"
      ],
      "metadata": {
        "id": "mrW4x7hAEkkX"
      }
    },
    {
      "cell_type": "markdown",
      "source": [],
      "metadata": {
        "id": "L12qoMrLEjZO"
      }
    },
    {
      "cell_type": "code",
      "source": [
        "hospital_train = hospital[['openDate','bedCount','revenue1','salescost1','sga1','salary1','liquidAsset1','nonCAsset1','netAsset1','surplus1']]"
      ],
      "metadata": {
        "id": "1CsDU8JIIlzC"
      },
      "execution_count": null,
      "outputs": []
    },
    {
      "cell_type": "code",
      "source": [
        "hospital_train.info()"
      ],
      "metadata": {
        "colab": {
          "base_uri": "https://localhost:8080/"
        },
        "id": "W-E_3CWxMI55",
        "outputId": "b7d80a26-7e27-4360-b571-7aa966987100"
      },
      "execution_count": null,
      "outputs": [
        {
          "output_type": "stream",
          "name": "stdout",
          "text": [
            "<class 'pandas.core.frame.DataFrame'>\n",
            "RangeIndex: 301 entries, 0 to 300\n",
            "Data columns (total 10 columns):\n",
            " #   Column        Non-Null Count  Dtype  \n",
            "---  ------        --------------  -----  \n",
            " 0   openDate      301 non-null    int64  \n",
            " 1   bedCount      296 non-null    float64\n",
            " 2   revenue1      293 non-null    float64\n",
            " 3   salescost1    293 non-null    float64\n",
            " 4   sga1          293 non-null    float64\n",
            " 5   salary1       293 non-null    float64\n",
            " 6   liquidAsset1  293 non-null    float64\n",
            " 7   nonCAsset1    293 non-null    float64\n",
            " 8   netAsset1     293 non-null    float64\n",
            " 9   surplus1      293 non-null    float64\n",
            "dtypes: float64(9), int64(1)\n",
            "memory usage: 23.6 KB\n"
          ]
        }
      ]
    },
    {
      "cell_type": "markdown",
      "source": [
        "#2. 데이터 전처리"
      ],
      "metadata": {
        "id": "hXHEOSD_-4o1"
      }
    },
    {
      "cell_type": "markdown",
      "source": [
        "#1) 결측치 확인"
      ],
      "metadata": {
        "id": "UwhKbuHp3NBj"
      }
    },
    {
      "cell_type": "code",
      "source": [
        "import seaborn as sns\n",
        "\n",
        "cols = hospital_train.columns[:10] \n",
        "colours = ['blue', 'yellow'] # 노랑 - 누락. 파랑 - 정상.\n",
        "sns.heatmap(hospital_train[cols].isnull(), cmap=sns.color_palette(colours))"
      ],
      "metadata": {
        "colab": {
          "base_uri": "https://localhost:8080/",
          "height": 339
        },
        "id": "15uS3XUe-8FN",
        "outputId": "c62a3efe-7431-475b-9b2b-90d99abb2147"
      },
      "execution_count": null,
      "outputs": [
        {
          "output_type": "execute_result",
          "data": {
            "text/plain": [
              "<matplotlib.axes._subplots.AxesSubplot at 0x7ff2470827c0>"
            ]
          },
          "metadata": {},
          "execution_count": 6
        },
        {
          "output_type": "display_data",
          "data": {
            "text/plain": [
              "<Figure size 432x288 with 2 Axes>"
            ],
            "image/png": "[encoded data removed]"
          },
          "metadata": {
            "needs_background": "light"
          }
        }
      ]
    },
    {
      "cell_type": "code",
      "source": [
        "for col in hospital_train.columns:\n",
        "    pct_missing = np.mean(hospital_train[col].isnull())\n",
        "    print('{} - {}%'.format(col, round(pct_missing*100)))"
      ],
      "metadata": {
        "colab": {
          "base_uri": "https://localhost:8080/"
        },
        "id": "padzkKgBBPwl",
        "outputId": "fe444d8a-4ebe-4594-8721-03f65191cde2"
      },
      "execution_count": null,
      "outputs": [
        {
          "output_type": "stream",
          "name": "stdout",
          "text": [
            "openDate - 0%\n",
            "bedCount - 2%\n",
            "revenue1 - 3%\n",
            "salescost1 - 3%\n",
            "sga1 - 3%\n",
            "salary1 - 3%\n",
            "liquidAsset1 - 3%\n",
            "nonCAsset1 - 3%\n",
            "netAsset1 - 3%\n",
            "surplus1 - 3%\n"
          ]
        }
      ]
    },
    {
      "cell_type": "markdown",
      "source": [
        "#2) 누락 데이터 대체"
      ],
      "metadata": {
        "id": "u0Y-EX5M3SV0"
      }
    },
    {
      "cell_type": "code",
      "source": [
        "# fillna() 로 누락 데이터 대체- bedCount\n",
        "med = hospital_train['bedCount'].median()\n",
        "print(med)\n",
        "hospital_train['bedCount'] = hospital_train['bedCount'].fillna(med)"
      ],
      "metadata": {
        "colab": {
          "base_uri": "https://localhost:8080/"
        },
        "id": "00Wn9JqQCxwW",
        "outputId": "e10c04b4-5d83-4bc4-aac0-ec8e88c7d68c"
      },
      "execution_count": null,
      "outputs": [
        {
          "output_type": "stream",
          "name": "stdout",
          "text": [
            "136.5\n"
          ]
        },
        {
          "output_type": "stream",
          "name": "stderr",
          "text": [
            "<ipython-input-8-dd3eb38b247f>:4: SettingWithCopyWarning: \n",
            "A value is trying to be set on a copy of a slice from a DataFrame.\n",
            "Try using .loc[row_indexer,col_indexer] = value instead\n",
            "\n",
            "See the caveats in the documentation: https://pandas.pydata.org/pandas-docs/stable/user_guide/indexing.html#returning-a-view-versus-a-copy\n",
            "  hospital_train['bedCount'] = hospital_train['bedCount'].fillna(med)\n"
          ]
        }
      ]
    },
    {
      "cell_type": "code",
      "source": [
        "# fillna() 로 누락 데이터 대체- revenue1\n",
        "med = hospital_train['revenue1'].median()\n",
        "print(med)\n",
        "hospital_train['revenue1'] = hospital_train['revenue1'].fillna(med)"
      ],
      "metadata": {
        "colab": {
          "base_uri": "https://localhost:8080/"
        },
        "id": "_aJ6h-b-Cxp7",
        "outputId": "c4cd0a14-294f-4e6e-c530-647d5de0fe27"
      },
      "execution_count": null,
      "outputs": [
        {
          "output_type": "stream",
          "name": "stdout",
          "text": [
            "5524218104.0\n"
          ]
        },
        {
          "output_type": "stream",
          "name": "stderr",
          "text": [
            "<ipython-input-9-d309c147b137>:4: SettingWithCopyWarning: \n",
            "A value is trying to be set on a copy of a slice from a DataFrame.\n",
            "Try using .loc[row_indexer,col_indexer] = value instead\n",
            "\n",
            "See the caveats in the documentation: https://pandas.pydata.org/pandas-docs/stable/user_guide/indexing.html#returning-a-view-versus-a-copy\n",
            "  hospital_train['revenue1'] = hospital_train['revenue1'].fillna(med)\n"
          ]
        }
      ]
    },
    {
      "cell_type": "code",
      "source": [
        "# fillna() 로 누락 데이터 대체- salescost1\n",
        "med = hospital_train['salescost1'].median()\n",
        "print(med)\n",
        "hospital_train['salescost1'] = hospital_train['salescost1'].fillna(med)"
      ],
      "metadata": {
        "colab": {
          "base_uri": "https://localhost:8080/"
        },
        "id": "nTfIF925FEMt",
        "outputId": "2872db6c-e3a7-4d24-d682-ba02c1ff8d14"
      },
      "execution_count": null,
      "outputs": [
        {
          "output_type": "stream",
          "name": "stdout",
          "text": [
            "210410492.0\n"
          ]
        },
        {
          "output_type": "stream",
          "name": "stderr",
          "text": [
            "<ipython-input-10-e210949a703e>:4: SettingWithCopyWarning: \n",
            "A value is trying to be set on a copy of a slice from a DataFrame.\n",
            "Try using .loc[row_indexer,col_indexer] = value instead\n",
            "\n",
            "See the caveats in the documentation: https://pandas.pydata.org/pandas-docs/stable/user_guide/indexing.html#returning-a-view-versus-a-copy\n",
            "  hospital_train['salescost1'] = hospital_train['salescost1'].fillna(med)\n"
          ]
        }
      ]
    },
    {
      "cell_type": "code",
      "source": [
        "# fillna() 로 누락 데이터 대체- sga1\n",
        "med = hospital_train['sga1'].median()\n",
        "print(med)\n",
        "hospital_train['sga1'] = hospital_train['sga1'].fillna(med)"
      ],
      "metadata": {
        "colab": {
          "base_uri": "https://localhost:8080/"
        },
        "id": "MO6CpFQhCxj6",
        "outputId": "d60f4416-3195-4414-acf7-31435c79d91e"
      },
      "execution_count": null,
      "outputs": [
        {
          "output_type": "stream",
          "name": "stdout",
          "text": [
            "4684074465.0\n"
          ]
        },
        {
          "output_type": "stream",
          "name": "stderr",
          "text": [
            "<ipython-input-11-85df2051bfa7>:4: SettingWithCopyWarning: \n",
            "A value is trying to be set on a copy of a slice from a DataFrame.\n",
            "Try using .loc[row_indexer,col_indexer] = value instead\n",
            "\n",
            "See the caveats in the documentation: https://pandas.pydata.org/pandas-docs/stable/user_guide/indexing.html#returning-a-view-versus-a-copy\n",
            "  hospital_train['sga1'] = hospital_train['sga1'].fillna(med)\n"
          ]
        }
      ]
    },
    {
      "cell_type": "code",
      "source": [
        "# fillna() 로 누락 데이터 대체- salary1\n",
        "med = hospital_train['salary1'].median()\n",
        "print(med)\n",
        "hospital_train['salary1'] = hospital_train['salary1'].fillna(med)"
      ],
      "metadata": {
        "colab": {
          "base_uri": "https://localhost:8080/"
        },
        "id": "KwzBF33bCxe1",
        "outputId": "f0a6855a-b98a-4b69-a45f-36edd957be3f"
      },
      "execution_count": null,
      "outputs": [
        {
          "output_type": "stream",
          "name": "stdout",
          "text": [
            "2659892367.0\n"
          ]
        },
        {
          "output_type": "stream",
          "name": "stderr",
          "text": [
            "<ipython-input-12-10198b0504b7>:4: SettingWithCopyWarning: \n",
            "A value is trying to be set on a copy of a slice from a DataFrame.\n",
            "Try using .loc[row_indexer,col_indexer] = value instead\n",
            "\n",
            "See the caveats in the documentation: https://pandas.pydata.org/pandas-docs/stable/user_guide/indexing.html#returning-a-view-versus-a-copy\n",
            "  hospital_train['salary1'] = hospital_train['salary1'].fillna(med)\n"
          ]
        }
      ]
    },
    {
      "cell_type": "code",
      "source": [
        "# fillna() 로 누락 데이터 대체- liquidAsset1\n",
        "med = hospital_train['liquidAsset1'].median()\n",
        "print(med)\n",
        "hospital_train['liquidAsset1'] = hospital_train['liquidAsset1'].fillna(med)"
      ],
      "metadata": {
        "colab": {
          "base_uri": "https://localhost:8080/"
        },
        "id": "RIDsvIRwCxVm",
        "outputId": "3dacae2d-47a5-4376-a669-f45d0efe630b"
      },
      "execution_count": null,
      "outputs": [
        {
          "output_type": "stream",
          "name": "stdout",
          "text": [
            "1516732005.0\n"
          ]
        },
        {
          "output_type": "stream",
          "name": "stderr",
          "text": [
            "<ipython-input-13-de36a4600ecc>:4: SettingWithCopyWarning: \n",
            "A value is trying to be set on a copy of a slice from a DataFrame.\n",
            "Try using .loc[row_indexer,col_indexer] = value instead\n",
            "\n",
            "See the caveats in the documentation: https://pandas.pydata.org/pandas-docs/stable/user_guide/indexing.html#returning-a-view-versus-a-copy\n",
            "  hospital_train['liquidAsset1'] = hospital_train['liquidAsset1'].fillna(med)\n"
          ]
        }
      ]
    },
    {
      "cell_type": "code",
      "source": [
        "# fillna() 로 누락 데이터 대체- nonCAsset1\n",
        "med = hospital_train['nonCAsset1'].median()\n",
        "print(med)\n",
        "hospital_train['nonCAsset1'] = hospital_train['nonCAsset1'].fillna(med)"
      ],
      "metadata": {
        "colab": {
          "base_uri": "https://localhost:8080/"
        },
        "id": "bG_BqvuyEW_p",
        "outputId": "eb55d7e7-ecbf-4cfe-b7b9-e307647446bc"
      },
      "execution_count": null,
      "outputs": [
        {
          "output_type": "stream",
          "name": "stdout",
          "text": [
            "6100798930.0\n"
          ]
        },
        {
          "output_type": "stream",
          "name": "stderr",
          "text": [
            "<ipython-input-14-71c7cecb8242>:4: SettingWithCopyWarning: \n",
            "A value is trying to be set on a copy of a slice from a DataFrame.\n",
            "Try using .loc[row_indexer,col_indexer] = value instead\n",
            "\n",
            "See the caveats in the documentation: https://pandas.pydata.org/pandas-docs/stable/user_guide/indexing.html#returning-a-view-versus-a-copy\n",
            "  hospital_train['nonCAsset1'] = hospital_train['nonCAsset1'].fillna(med)\n"
          ]
        }
      ]
    },
    {
      "cell_type": "code",
      "source": [
        "# fillna() 로 누락 데이터 대체- netAsset1\n",
        "med = hospital_train['netAsset1'].median()\n",
        "print(med)\n",
        "hospital_train['netAsset1'] = hospital_train['netAsset1'].fillna(med)"
      ],
      "metadata": {
        "colab": {
          "base_uri": "https://localhost:8080/"
        },
        "id": "rZVRdzAJEW29",
        "outputId": "d8744fd3-3cad-4be8-b574-9f8bd6887046"
      },
      "execution_count": null,
      "outputs": [
        {
          "output_type": "stream",
          "name": "stdout",
          "text": [
            "3033906841.0\n"
          ]
        },
        {
          "output_type": "stream",
          "name": "stderr",
          "text": [
            "<ipython-input-15-ad29f9aa7b67>:4: SettingWithCopyWarning: \n",
            "A value is trying to be set on a copy of a slice from a DataFrame.\n",
            "Try using .loc[row_indexer,col_indexer] = value instead\n",
            "\n",
            "See the caveats in the documentation: https://pandas.pydata.org/pandas-docs/stable/user_guide/indexing.html#returning-a-view-versus-a-copy\n",
            "  hospital_train['netAsset1'] = hospital_train['netAsset1'].fillna(med)\n"
          ]
        }
      ]
    },
    {
      "cell_type": "code",
      "source": [
        "# fillna() 로 누락 데이터 대체- surplus1\n",
        "med = hospital_train['surplus1'].median()\n",
        "print(med)\n",
        "hospital_train['surplus1'] = hospital_train['surplus1'].fillna(med)"
      ],
      "metadata": {
        "colab": {
          "base_uri": "https://localhost:8080/"
        },
        "id": "TtsWT3H6EWpq",
        "outputId": "daef66c6-4651-4025-d43c-09b9c3ae4221"
      },
      "execution_count": null,
      "outputs": [
        {
          "output_type": "stream",
          "name": "stdout",
          "text": [
            "0.0\n"
          ]
        },
        {
          "output_type": "stream",
          "name": "stderr",
          "text": [
            "<ipython-input-16-9d085feea049>:4: SettingWithCopyWarning: \n",
            "A value is trying to be set on a copy of a slice from a DataFrame.\n",
            "Try using .loc[row_indexer,col_indexer] = value instead\n",
            "\n",
            "See the caveats in the documentation: https://pandas.pydata.org/pandas-docs/stable/user_guide/indexing.html#returning-a-view-versus-a-copy\n",
            "  hospital_train['surplus1'] = hospital_train['surplus1'].fillna(med)\n"
          ]
        }
      ]
    },
    {
      "cell_type": "markdown",
      "source": [
        "#3)결측값 제거 이후"
      ],
      "metadata": {
        "id": "i_pYPUNG3Wc5"
      }
    },
    {
      "cell_type": "code",
      "source": [
        "for col in hospital_train.columns:\n",
        "    pct_missing = np.mean(hospital_train[col].isnull())\n",
        "    print('{} - {}%'.format(col, round(pct_missing*100)))"
      ],
      "metadata": {
        "colab": {
          "base_uri": "https://localhost:8080/"
        },
        "id": "mdGHLfWIGmSQ",
        "outputId": "c7495c01-694e-4cb3-9ba0-cbf19d36d5fa"
      },
      "execution_count": null,
      "outputs": [
        {
          "output_type": "stream",
          "name": "stdout",
          "text": [
            "openDate - 0%\n",
            "bedCount - 0%\n",
            "revenue1 - 0%\n",
            "salescost1 - 0%\n",
            "sga1 - 0%\n",
            "salary1 - 0%\n",
            "liquidAsset1 - 0%\n",
            "nonCAsset1 - 0%\n",
            "netAsset1 - 0%\n",
            "surplus1 - 0%\n"
          ]
        }
      ]
    },
    {
      "cell_type": "code",
      "source": [
        "hospital_train.head()"
      ],
      "metadata": {
        "colab": {
          "base_uri": "https://localhost:8080/",
          "height": 206
        },
        "id": "c5sZpCsPJHlJ",
        "outputId": "e7becbdf-d4fe-47ea-b115-e2b2d89260f3"
      },
      "execution_count": null,
      "outputs": [
        {
          "output_type": "execute_result",
          "data": {
            "text/plain": [
              "   openDate  bedCount      revenue1   salescost1          sga1       salary1  \\\n",
              "0  20071228     175.0  4.217530e+09          0.0  3.961135e+09  2.033835e+09   \n",
              "1  19970401     410.0  5.524218e+09  210410492.0  4.684074e+09  2.659892e+09   \n",
              "2  20161228     468.0  1.004522e+09  515483669.0  4.472197e+08  2.964023e+08   \n",
              "3  20000814     353.0  7.250734e+10          0.0  7.067740e+10  3.178605e+10   \n",
              "4  20050901     196.0  4.904354e+10          0.0  4.765605e+10  2.446078e+10   \n",
              "\n",
              "   liquidAsset1    nonCAsset1     netAsset1      surplus1  \n",
              "0  1.012700e+09  2.514586e+09  2.844460e+09  1.496394e+09  \n",
              "1  1.516732e+09  6.100799e+09  3.033907e+09  0.000000e+00  \n",
              "2  2.724421e+08  1.204810e+08  3.005088e+08  0.000000e+00  \n",
              "3  1.304154e+10  4.317936e+10  1.385710e+10  8.643659e+09  \n",
              "4  6.317084e+09  4.366733e+10  8.631164e+07  9.025550e+09  "
            ],
            "text/html": [
              "\n",
              "  <div id=\"df-460471c4-79cc-4f01-b9e7-073bf9cbabe3\">\n",
              "    <div class=\"colab-df-container\">\n",
              "      <div>\n",
              "<style scoped>\n",
              "    .dataframe tbody tr th:only-of-type {\n",
              "        vertical-align: middle;\n",
              "    }\n",
              "\n",
              "    .dataframe tbody tr th {\n",
              "        vertical-align: top;\n",
              "    }\n",
              "\n",
              "    .dataframe thead th {\n",
              "        text-align: right;\n",
              "    }\n",
              "</style>\n",
              "<table border=\"1\" class=\"dataframe\">\n",
              "  <thead>\n",
              "    <tr style=\"text-align: right;\">\n",
              "      <th></th>\n",
              "      <th>openDate</th>\n",
              "      <th>bedCount</th>\n",
              "      <th>revenue1</th>\n",
              "      <th>salescost1</th>\n",
              "      <th>sga1</th>\n",
              "      <th>salary1</th>\n",
              "      <th>liquidAsset1</th>\n",
              "      <th>nonCAsset1</th>\n",
              "      <th>netAsset1</th>\n",
              "      <th>surplus1</th>\n",
              "    </tr>\n",
              "  </thead>\n",
              "  <tbody>\n",
              "    <tr>\n",
              "      <th>0</th>\n",
              "      <td>20071228</td>\n",
              "      <td>175.0</td>\n",
              "      <td>4.217530e+09</td>\n",
              "      <td>0.0</td>\n",
              "      <td>3.961135e+09</td>\n",
              "      <td>2.033835e+09</td>\n",
              "      <td>1.012700e+09</td>\n",
              "      <td>2.514586e+09</td>\n",
              "      <td>2.844460e+09</td>\n",
              "      <td>1.496394e+09</td>\n",
              "    </tr>\n",
              "    <tr>\n",
              "      <th>1</th>\n",
              "      <td>19970401</td>\n",
              "      <td>410.0</td>\n",
              "      <td>5.524218e+09</td>\n",
              "      <td>210410492.0</td>\n",
              "      <td>4.684074e+09</td>\n",
              "      <td>2.659892e+09</td>\n",
              "      <td>1.516732e+09</td>\n",
              "      <td>6.100799e+09</td>\n",
              "      <td>3.033907e+09</td>\n",
              "      <td>0.000000e+00</td>\n",
              "    </tr>\n",
              "    <tr>\n",
              "      <th>2</th>\n",
              "      <td>20161228</td>\n",
              "      <td>468.0</td>\n",
              "      <td>1.004522e+09</td>\n",
              "      <td>515483669.0</td>\n",
              "      <td>4.472197e+08</td>\n",
              "      <td>2.964023e+08</td>\n",
              "      <td>2.724421e+08</td>\n",
              "      <td>1.204810e+08</td>\n",
              "      <td>3.005088e+08</td>\n",
              "      <td>0.000000e+00</td>\n",
              "    </tr>\n",
              "    <tr>\n",
              "      <th>3</th>\n",
              "      <td>20000814</td>\n",
              "      <td>353.0</td>\n",
              "      <td>7.250734e+10</td>\n",
              "      <td>0.0</td>\n",
              "      <td>7.067740e+10</td>\n",
              "      <td>3.178605e+10</td>\n",
              "      <td>1.304154e+10</td>\n",
              "      <td>4.317936e+10</td>\n",
              "      <td>1.385710e+10</td>\n",
              "      <td>8.643659e+09</td>\n",
              "    </tr>\n",
              "    <tr>\n",
              "      <th>4</th>\n",
              "      <td>20050901</td>\n",
              "      <td>196.0</td>\n",
              "      <td>4.904354e+10</td>\n",
              "      <td>0.0</td>\n",
              "      <td>4.765605e+10</td>\n",
              "      <td>2.446078e+10</td>\n",
              "      <td>6.317084e+09</td>\n",
              "      <td>4.366733e+10</td>\n",
              "      <td>8.631164e+07</td>\n",
              "      <td>9.025550e+09</td>\n",
              "    </tr>\n",
              "  </tbody>\n",
              "</table>\n",
              "</div>\n",
              "      <button class=\"colab-df-convert\" onclick=\"convertToInteractive('df-460471c4-79cc-4f01-b9e7-073bf9cbabe3')\"\n",
              "              title=\"Convert this dataframe to an interactive table.\"\n",
              "              style=\"display:none;\">\n",
              "        \n",
              "  <svg xmlns=\"http://www.w3.org/2000/svg\" height=\"24px\"viewBox=\"0 0 24 24\"\n",
              "       width=\"24px\">\n",
              "    <path d=\"M0 0h24v24H0V0z\" fill=\"none\"/>\n",
              "    <path d=\"M18.56 5.44l.94 2.06.94-2.06 2.06-.94-2.06-.94-.94-2.06-.94 2.06-2.06.94zm-11 1L8.5 8.5l.94-2.06 2.06-.94-2.06-.94L8.5 2.5l-.94 2.06-2.06.94zm10 10l.94 2.06.94-2.06 2.06-.94-2.06-.94-.94-2.06-.94 2.06-2.06.94z\"/><path d=\"M17.41 7.96l-1.37-1.37c-.4-.4-.92-.59-1.43-.59-.52 0-1.04.2-1.43.59L10.3 9.45l-7.72 7.72c-.78.78-.78 2.05 0 2.83L4 21.41c.39.39.9.59 1.41.59.51 0 1.02-.2 1.41-.59l7.78-7.78 2.81-2.81c.8-.78.8-2.07 0-2.86zM5.41 20L4 18.59l7.72-7.72 1.47 1.35L5.41 20z\"/>\n",
              "  </svg>\n",
              "      </button>\n",
              "      \n",
              "  <style>\n",
              "    .colab-df-container {\n",
              "      display:flex;\n",
              "      flex-wrap:wrap;\n",
              "      gap: 12px;\n",
              "    }\n",
              "\n",
              "    .colab-df-convert {\n",
              "      background-color: #E8F0FE;\n",
              "      border: none;\n",
              "      border-radius: 50%;\n",
              "      cursor: pointer;\n",
              "      display: none;\n",
              "      fill: #1967D2;\n",
              "      height: 32px;\n",
              "      padding: 0 0 0 0;\n",
              "      width: 32px;\n",
              "    }\n",
              "\n",
              "    .colab-df-convert:hover {\n",
              "      background-color: #E2EBFA;\n",
              "      box-shadow: 0px 1px 2px rgba(60, 64, 67, 0.3), 0px 1px 3px 1px rgba(60, 64, 67, 0.15);\n",
              "      fill: #174EA6;\n",
              "    }\n",
              "\n",
              "    [theme=dark] .colab-df-convert {\n",
              "      background-color: #3B4455;\n",
              "      fill: #D2E3FC;\n",
              "    }\n",
              "\n",
              "    [theme=dark] .colab-df-convert:hover {\n",
              "      background-color: #434B5C;\n",
              "      box-shadow: 0px 1px 3px 1px rgba(0, 0, 0, 0.15);\n",
              "      filter: drop-shadow(0px 1px 2px rgba(0, 0, 0, 0.3));\n",
              "      fill: #FFFFFF;\n",
              "    }\n",
              "  </style>\n",
              "\n",
              "      <script>\n",
              "        const buttonEl =\n",
              "          document.querySelector('#df-460471c4-79cc-4f01-b9e7-073bf9cbabe3 button.colab-df-convert');\n",
              "        buttonEl.style.display =\n",
              "          google.colab.kernel.accessAllowed ? 'block' : 'none';\n",
              "\n",
              "        async function convertToInteractive(key) {\n",
              "          const element = document.querySelector('#df-460471c4-79cc-4f01-b9e7-073bf9cbabe3');\n",
              "          const dataTable =\n",
              "            await google.colab.kernel.invokeFunction('convertToInteractive',\n",
              "                                                     [key], {});\n",
              "          if (!dataTable) return;\n",
              "\n",
              "          const docLinkHtml = 'Like what you see? Visit the ' +\n",
              "            '<a target=\"_blank\" href=https://colab.research.google.com/notebooks/data_table.ipynb>data table notebook</a>'\n",
              "            + ' to learn more about interactive tables.';\n",
              "          element.innerHTML = '';\n",
              "          dataTable['output_type'] = 'display_data';\n",
              "          await google.colab.output.renderOutput(dataTable, element);\n",
              "          const docLink = document.createElement('div');\n",
              "          docLink.innerHTML = docLinkHtml;\n",
              "          element.appendChild(docLink);\n",
              "        }\n",
              "      </script>\n",
              "    </div>\n",
              "  </div>\n",
              "  "
            ]
          },
          "metadata": {},
          "execution_count": 18
        }
      ]
    },
    {
      "cell_type": "code",
      "source": [
        "hospital_train.info()"
      ],
      "metadata": {
        "colab": {
          "base_uri": "https://localhost:8080/"
        },
        "id": "eUVIT1LwH-Fm",
        "outputId": "08569bea-381f-4190-b6c3-e8ccf50e542b"
      },
      "execution_count": null,
      "outputs": [
        {
          "output_type": "stream",
          "name": "stdout",
          "text": [
            "<class 'pandas.core.frame.DataFrame'>\n",
            "RangeIndex: 301 entries, 0 to 300\n",
            "Data columns (total 10 columns):\n",
            " #   Column        Non-Null Count  Dtype  \n",
            "---  ------        --------------  -----  \n",
            " 0   openDate      301 non-null    int64  \n",
            " 1   bedCount      301 non-null    float64\n",
            " 2   revenue1      301 non-null    float64\n",
            " 3   salescost1    301 non-null    float64\n",
            " 4   sga1          301 non-null    float64\n",
            " 5   salary1       301 non-null    float64\n",
            " 6   liquidAsset1  301 non-null    float64\n",
            " 7   nonCAsset1    301 non-null    float64\n",
            " 8   netAsset1     301 non-null    float64\n",
            " 9   surplus1      301 non-null    float64\n",
            "dtypes: float64(9), int64(1)\n",
            "memory usage: 23.6 KB\n"
          ]
        }
      ]
    },
    {
      "cell_type": "markdown",
      "source": [
        "#5) 변수간 상관계수(피어슨)"
      ],
      "metadata": {
        "id": "7EPeygD5Df2b"
      }
    },
    {
      "cell_type": "code",
      "source": [
        "from pandas.plotting import scatter_matrix\n",
        "\n",
        "scatter_matrix(hospital_train, figsize = (6, 6))"
      ],
      "metadata": {
        "colab": {
          "base_uri": "https://localhost:8080/",
          "height": 1000
        },
        "id": "DobVTE7sM1Xq",
        "outputId": "88510c81-3a56-48a7-eb49-32cef1bb074d"
      },
      "execution_count": null,
      "outputs": [
        {
          "output_type": "execute_result",
          "data": {
            "text/plain": [
              "array([[<matplotlib.axes._subplots.AxesSubplot object at 0x7ff2442e2910>,\n",
              "        <matplotlib.axes._subplots.AxesSubplot object at 0x7ff24428ed90>,\n",
              "        <matplotlib.axes._subplots.AxesSubplot object at 0x7ff2442491f0>,\n",
              "        <matplotlib.axes._subplots.AxesSubplot object at 0x7ff2441f6610>,\n",
              "        <matplotlib.axes._subplots.AxesSubplot object at 0x7ff244224a00>,\n",
              "        <matplotlib.axes._subplots.AxesSubplot object at 0x7ff2441d2d30>,\n",
              "        <matplotlib.axes._subplots.AxesSubplot object at 0x7ff2441d2e20>,\n",
              "        <matplotlib.axes._subplots.AxesSubplot object at 0x7ff24418c2e0>,\n",
              "        <matplotlib.axes._subplots.AxesSubplot object at 0x7ff244166a60>,\n",
              "        <matplotlib.axes._subplots.AxesSubplot object at 0x7ff244114e50>],\n",
              "       [<matplotlib.axes._subplots.AxesSubplot object at 0x7ff247076a30>,\n",
              "        <matplotlib.axes._subplots.AxesSubplot object at 0x7ff244196640>,\n",
              "        <matplotlib.axes._subplots.AxesSubplot object at 0x7ff24409ab20>,\n",
              "        <matplotlib.axes._subplots.AxesSubplot object at 0x7ff244050f10>,\n",
              "        <matplotlib.axes._subplots.AxesSubplot object at 0x7ff244009340>,\n",
              "        <matplotlib.axes._subplots.AxesSubplot object at 0x7ff243fb6730>,\n",
              "        <matplotlib.axes._subplots.AxesSubplot object at 0x7ff243fe3b50>,\n",
              "        <matplotlib.axes._subplots.AxesSubplot object at 0x7ff243f91f70>,\n",
              "        <matplotlib.axes._subplots.AxesSubplot object at 0x7ff243f4b400>,\n",
              "        <matplotlib.axes._subplots.AxesSubplot object at 0x7ff243efa7f0>],\n",
              "       [<matplotlib.axes._subplots.AxesSubplot object at 0x7ff243f28be0>,\n",
              "        <matplotlib.axes._subplots.AxesSubplot object at 0x7ff243ed5fd0>,\n",
              "        <matplotlib.axes._subplots.AxesSubplot object at 0x7ff243e8f400>,\n",
              "        <matplotlib.axes._subplots.AxesSubplot object at 0x7ff243e3c7f0>,\n",
              "        <matplotlib.axes._subplots.AxesSubplot object at 0x7ff243e69be0>,\n",
              "        <matplotlib.axes._subplots.AxesSubplot object at 0x7ff243e18fd0>,\n",
              "        <matplotlib.axes._subplots.AxesSubplot object at 0x7ff243dd2400>,\n",
              "        <matplotlib.axes._subplots.AxesSubplot object at 0x7ff243d817f0>,\n",
              "        <matplotlib.axes._subplots.AxesSubplot object at 0x7ff243dafbe0>,\n",
              "        <matplotlib.axes._subplots.AxesSubplot object at 0x7ff243d5dfd0>],\n",
              "       [<matplotlib.axes._subplots.AxesSubplot object at 0x7ff243d17400>,\n",
              "        <matplotlib.axes._subplots.AxesSubplot object at 0x7ff243cc5820>,\n",
              "        <matplotlib.axes._subplots.AxesSubplot object at 0x7ff243c72c10>,\n",
              "        <matplotlib.axes._subplots.AxesSubplot object at 0x7ff243c9f0a0>,\n",
              "        <matplotlib.axes._subplots.AxesSubplot object at 0x7ff243c5a430>,\n",
              "        <matplotlib.axes._subplots.AxesSubplot object at 0x7ff243c07820>,\n",
              "        <matplotlib.axes._subplots.AxesSubplot object at 0x7ff243bb6c10>,\n",
              "        <matplotlib.axes._subplots.AxesSubplot object at 0x7ff243be7fa0>,\n",
              "        <matplotlib.axes._subplots.AxesSubplot object at 0x7ff243ba0430>,\n",
              "        <matplotlib.axes._subplots.AxesSubplot object at 0x7ff243b4e850>],\n",
              "       [<matplotlib.axes._subplots.AxesSubplot object at 0x7ff243afe700>,\n",
              "        <matplotlib.axes._subplots.AxesSubplot object at 0x7ff243b28e20>,\n",
              "        <matplotlib.axes._subplots.AxesSubplot object at 0x7ff243adf580>,\n",
              "        <matplotlib.axes._subplots.AxesSubplot object at 0x7ff243a8aca0>,\n",
              "        <matplotlib.axes._subplots.AxesSubplot object at 0x7ff243a3f400>,\n",
              "        <matplotlib.axes._subplots.AxesSubplot object at 0x7ff243a69b50>,\n",
              "        <matplotlib.axes._subplots.AxesSubplot object at 0x7ff243a242b0>,\n",
              "        <matplotlib.axes._subplots.AxesSubplot object at 0x7ff2439cc9d0>,\n",
              "        <matplotlib.axes._subplots.AxesSubplot object at 0x7ff243984130>,\n",
              "        <matplotlib.axes._subplots.AxesSubplot object at 0x7ff2439ae850>],\n",
              "       [<matplotlib.axes._subplots.AxesSubplot object at 0x7ff243959f70>,\n",
              "        <matplotlib.axes._subplots.AxesSubplot object at 0x7ff24390e6d0>,\n",
              "        <matplotlib.axes._subplots.AxesSubplot object at 0x7ff2438b8df0>,\n",
              "        <matplotlib.axes._subplots.AxesSubplot object at 0x7ff2438ef550>,\n",
              "        <matplotlib.axes._subplots.AxesSubplot object at 0x7ff24389ac70>,\n",
              "        <matplotlib.axes._subplots.AxesSubplot object at 0x7ff2438533d0>,\n",
              "        <matplotlib.axes._subplots.AxesSubplot object at 0x7ff2437fcb20>,\n",
              "        <matplotlib.axes._subplots.AxesSubplot object at 0x7ff2437b5280>,\n",
              "        <matplotlib.axes._subplots.AxesSubplot object at 0x7ff2437dd9a0>,\n",
              "        <matplotlib.axes._subplots.AxesSubplot object at 0x7ff24378a130>],\n",
              "       [<matplotlib.axes._subplots.AxesSubplot object at 0x7ff2437407f0>,\n",
              "        <matplotlib.axes._subplots.AxesSubplot object at 0x7ff243768f10>,\n",
              "        <matplotlib.axes._subplots.AxesSubplot object at 0x7ff24371f790>,\n",
              "        <matplotlib.axes._subplots.AxesSubplot object at 0x7ff2436cbee0>,\n",
              "        <matplotlib.axes._subplots.AxesSubplot object at 0x7ff243681640>,\n",
              "        <matplotlib.axes._subplots.AxesSubplot object at 0x7ff2436acd60>,\n",
              "        <matplotlib.axes._subplots.AxesSubplot object at 0x7ff2447fd7c0>,\n",
              "        <matplotlib.axes._subplots.AxesSubplot object at 0x7ff243fe3e50>,\n",
              "        <matplotlib.axes._subplots.AxesSubplot object at 0x7ff243e3cee0>,\n",
              "        <matplotlib.axes._subplots.AxesSubplot object at 0x7ff243cf28e0>],\n",
              "       [<matplotlib.axes._subplots.AxesSubplot object at 0x7ff243bc4f70>,\n",
              "        <matplotlib.axes._subplots.AxesSubplot object at 0x7ff243539d90>,\n",
              "        <matplotlib.axes._subplots.AxesSubplot object at 0x7ff2434f31c0>,\n",
              "        <matplotlib.axes._subplots.AxesSubplot object at 0x7ff2435235b0>,\n",
              "        <matplotlib.axes._subplots.AxesSubplot object at 0x7ff2434d09a0>,\n",
              "        <matplotlib.axes._subplots.AxesSubplot object at 0x7ff24347ddc0>,\n",
              "        <matplotlib.axes._subplots.AxesSubplot object at 0x7ff2434371f0>,\n",
              "        <matplotlib.axes._subplots.AxesSubplot object at 0x7ff2434645e0>,\n",
              "        <matplotlib.axes._subplots.AxesSubplot object at 0x7ff2434129d0>,\n",
              "        <matplotlib.axes._subplots.AxesSubplot object at 0x7ff2433bfdc0>],\n",
              "       [<matplotlib.axes._subplots.AxesSubplot object at 0x7ff24337b1f0>,\n",
              "        <matplotlib.axes._subplots.AxesSubplot object at 0x7ff2433a95e0>,\n",
              "        <matplotlib.axes._subplots.AxesSubplot object at 0x7ff2433549d0>,\n",
              "        <matplotlib.axes._subplots.AxesSubplot object at 0x7ff243303dc0>,\n",
              "        <matplotlib.axes._subplots.AxesSubplot object at 0x7ff2432b81c0>,\n",
              "        <matplotlib.axes._subplots.AxesSubplot object at 0x7ff2432e45b0>,\n",
              "        <matplotlib.axes._subplots.AxesSubplot object at 0x7ff2432909a0>,\n",
              "        <matplotlib.axes._subplots.AxesSubplot object at 0x7ff243241d90>,\n",
              "        <matplotlib.axes._subplots.AxesSubplot object at 0x7ff2431fb1c0>,\n",
              "        <matplotlib.axes._subplots.AxesSubplot object at 0x7ff2432275b0>],\n",
              "       [<matplotlib.axes._subplots.AxesSubplot object at 0x7ff2431d79d0>,\n",
              "        <matplotlib.axes._subplots.AxesSubplot object at 0x7ff243183dc0>,\n",
              "        <matplotlib.axes._subplots.AxesSubplot object at 0x7ff24313f1f0>,\n",
              "        <matplotlib.axes._subplots.AxesSubplot object at 0x7ff24316c5e0>,\n",
              "        <matplotlib.axes._subplots.AxesSubplot object at 0x7ff2431169d0>,\n",
              "        <matplotlib.axes._subplots.AxesSubplot object at 0x7ff2430c6dc0>,\n",
              "        <matplotlib.axes._subplots.AxesSubplot object at 0x7ff243077e50>,\n",
              "        <matplotlib.axes._subplots.AxesSubplot object at 0x7ff2430ad5b0>,\n",
              "        <matplotlib.axes._subplots.AxesSubplot object at 0x7ff243057cd0>,\n",
              "        <matplotlib.axes._subplots.AxesSubplot object at 0x7ff24300e460>]],\n",
              "      dtype=object)"
            ]
          },
          "metadata": {},
          "execution_count": 20
        },
        {
          "output_type": "display_data",
          "data": {
            "text/plain": [
              "<Figure size 432x432 with 100 Axes>"
            ],
            "image/png": "[encoded data removed]"
          },
          "metadata": {
            "needs_background": "light"
          }
        }
      ]
    },
    {
      "cell_type": "code",
      "source": [
        "hospital_train.corr(method='pearson')"
      ],
      "metadata": {
        "colab": {
          "base_uri": "https://localhost:8080/",
          "height": 363
        },
        "id": "IUJS-_CSNlxi",
        "outputId": "759aa9fc-e5da-4e18-8e7e-e0c064403fea"
      },
      "execution_count": null,
      "outputs": [
        {
          "output_type": "execute_result",
          "data": {
            "text/plain": [
              "              openDate  bedCount  revenue1  salescost1      sga1   salary1  \\\n",
              "openDate      1.000000  0.019436 -0.266368   -0.163878 -0.284081 -0.305512   \n",
              "bedCount      0.019436  1.000000  0.276335    0.072904  0.335049  0.388037   \n",
              "revenue1     -0.266368  0.276335  1.000000    0.764234  0.948886  0.888141   \n",
              "salescost1   -0.163878  0.072904  0.764234    1.000000  0.530659  0.443644   \n",
              "sga1         -0.284081  0.335049  0.948886    0.530659  1.000000  0.965322   \n",
              "salary1      -0.305512  0.388037  0.888141    0.443644  0.965322  1.000000   \n",
              "liquidAsset1 -0.243001  0.160007  0.849983    0.648768  0.787038  0.709409   \n",
              "nonCAsset1   -0.172283  0.322172  0.768040    0.422516  0.807716  0.821818   \n",
              "netAsset1    -0.138971  0.189878  0.656632    0.428111  0.651683  0.637393   \n",
              "surplus1     -0.091178 -0.029850  0.332471    0.141947  0.361857  0.312233   \n",
              "\n",
              "              liquidAsset1  nonCAsset1  netAsset1  surplus1  \n",
              "openDate         -0.243001   -0.172283  -0.138971 -0.091178  \n",
              "bedCount          0.160007    0.322172   0.189878 -0.029850  \n",
              "revenue1          0.849983    0.768040   0.656632  0.332471  \n",
              "salescost1        0.648768    0.422516   0.428111  0.141947  \n",
              "sga1              0.787038    0.807716   0.651683  0.361857  \n",
              "salary1           0.709409    0.821818   0.637393  0.312233  \n",
              "liquidAsset1      1.000000    0.680242   0.736502  0.403590  \n",
              "nonCAsset1        0.680242    1.000000   0.821617  0.440357  \n",
              "netAsset1         0.736502    0.821617   1.000000  0.658646  \n",
              "surplus1          0.403590    0.440357   0.658646  1.000000  "
            ],
            "text/html": [
              "\n",
              "  <div id=\"df-c9998eb0-e4c7-4a1b-ab66-fb17ff90d3ed\">\n",
              "    <div class=\"colab-df-container\">\n",
              "      <div>\n",
              "<style scoped>\n",
              "    .dataframe tbody tr th:only-of-type {\n",
              "        vertical-align: middle;\n",
              "    }\n",
              "\n",
              "    .dataframe tbody tr th {\n",
              "        vertical-align: top;\n",
              "    }\n",
              "\n",
              "    .dataframe thead th {\n",
              "        text-align: right;\n",
              "    }\n",
              "</style>\n",
              "<table border=\"1\" class=\"dataframe\">\n",
              "  <thead>\n",
              "    <tr style=\"text-align: right;\">\n",
              "      <th></th>\n",
              "      <th>openDate</th>\n",
              "      <th>bedCount</th>\n",
              "      <th>revenue1</th>\n",
              "      <th>salescost1</th>\n",
              "      <th>sga1</th>\n",
              "      <th>salary1</th>\n",
              "      <th>liquidAsset1</th>\n",
              "      <th>nonCAsset1</th>\n",
              "      <th>netAsset1</th>\n",
              "      <th>surplus1</th>\n",
              "    </tr>\n",
              "  </thead>\n",
              "  <tbody>\n",
              "    <tr>\n",
              "      <th>openDate</th>\n",
              "      <td>1.000000</td>\n",
              "      <td>0.019436</td>\n",
              "      <td>-0.266368</td>\n",
              "      <td>-0.163878</td>\n",
              "      <td>-0.284081</td>\n",
              "      <td>-0.305512</td>\n",
              "      <td>-0.243001</td>\n",
              "      <td>-0.172283</td>\n",
              "      <td>-0.138971</td>\n",
              "      <td>-0.091178</td>\n",
              "    </tr>\n",
              "    <tr>\n",
              "      <th>bedCount</th>\n",
              "      <td>0.019436</td>\n",
              "      <td>1.000000</td>\n",
              "      <td>0.276335</td>\n",
              "      <td>0.072904</td>\n",
              "      <td>0.335049</td>\n",
              "      <td>0.388037</td>\n",
              "      <td>0.160007</td>\n",
              "      <td>0.322172</td>\n",
              "      <td>0.189878</td>\n",
              "      <td>-0.029850</td>\n",
              "    </tr>\n",
              "    <tr>\n",
              "      <th>revenue1</th>\n",
              "      <td>-0.266368</td>\n",
              "      <td>0.276335</td>\n",
              "      <td>1.000000</td>\n",
              "      <td>0.764234</td>\n",
              "      <td>0.948886</td>\n",
              "      <td>0.888141</td>\n",
              "      <td>0.849983</td>\n",
              "      <td>0.768040</td>\n",
              "      <td>0.656632</td>\n",
              "      <td>0.332471</td>\n",
              "    </tr>\n",
              "    <tr>\n",
              "      <th>salescost1</th>\n",
              "      <td>-0.163878</td>\n",
              "      <td>0.072904</td>\n",
              "      <td>0.764234</td>\n",
              "      <td>1.000000</td>\n",
              "      <td>0.530659</td>\n",
              "      <td>0.443644</td>\n",
              "      <td>0.648768</td>\n",
              "      <td>0.422516</td>\n",
              "      <td>0.428111</td>\n",
              "      <td>0.141947</td>\n",
              "    </tr>\n",
              "    <tr>\n",
              "      <th>sga1</th>\n",
              "      <td>-0.284081</td>\n",
              "      <td>0.335049</td>\n",
              "      <td>0.948886</td>\n",
              "      <td>0.530659</td>\n",
              "      <td>1.000000</td>\n",
              "      <td>0.965322</td>\n",
              "      <td>0.787038</td>\n",
              "      <td>0.807716</td>\n",
              "      <td>0.651683</td>\n",
              "      <td>0.361857</td>\n",
              "    </tr>\n",
              "    <tr>\n",
              "      <th>salary1</th>\n",
              "      <td>-0.305512</td>\n",
              "      <td>0.388037</td>\n",
              "      <td>0.888141</td>\n",
              "      <td>0.443644</td>\n",
              "      <td>0.965322</td>\n",
              "      <td>1.000000</td>\n",
              "      <td>0.709409</td>\n",
              "      <td>0.821818</td>\n",
              "      <td>0.637393</td>\n",
              "      <td>0.312233</td>\n",
              "    </tr>\n",
              "    <tr>\n",
              "      <th>liquidAsset1</th>\n",
              "      <td>-0.243001</td>\n",
              "      <td>0.160007</td>\n",
              "      <td>0.849983</td>\n",
              "      <td>0.648768</td>\n",
              "      <td>0.787038</td>\n",
              "      <td>0.709409</td>\n",
              "      <td>1.000000</td>\n",
              "      <td>0.680242</td>\n",
              "      <td>0.736502</td>\n",
              "      <td>0.403590</td>\n",
              "    </tr>\n",
              "    <tr>\n",
              "      <th>nonCAsset1</th>\n",
              "      <td>-0.172283</td>\n",
              "      <td>0.322172</td>\n",
              "      <td>0.768040</td>\n",
              "      <td>0.422516</td>\n",
              "      <td>0.807716</td>\n",
              "      <td>0.821818</td>\n",
              "      <td>0.680242</td>\n",
              "      <td>1.000000</td>\n",
              "      <td>0.821617</td>\n",
              "      <td>0.440357</td>\n",
              "    </tr>\n",
              "    <tr>\n",
              "      <th>netAsset1</th>\n",
              "      <td>-0.138971</td>\n",
              "      <td>0.189878</td>\n",
              "      <td>0.656632</td>\n",
              "      <td>0.428111</td>\n",
              "      <td>0.651683</td>\n",
              "      <td>0.637393</td>\n",
              "      <td>0.736502</td>\n",
              "      <td>0.821617</td>\n",
              "      <td>1.000000</td>\n",
              "      <td>0.658646</td>\n",
              "    </tr>\n",
              "    <tr>\n",
              "      <th>surplus1</th>\n",
              "      <td>-0.091178</td>\n",
              "      <td>-0.029850</td>\n",
              "      <td>0.332471</td>\n",
              "      <td>0.141947</td>\n",
              "      <td>0.361857</td>\n",
              "      <td>0.312233</td>\n",
              "      <td>0.403590</td>\n",
              "      <td>0.440357</td>\n",
              "      <td>0.658646</td>\n",
              "      <td>1.000000</td>\n",
              "    </tr>\n",
              "  </tbody>\n",
              "</table>\n",
              "</div>\n",
              "      <button class=\"colab-df-convert\" onclick=\"convertToInteractive('df-c9998eb0-e4c7-4a1b-ab66-fb17ff90d3ed')\"\n",
              "              title=\"Convert this dataframe to an interactive table.\"\n",
              "              style=\"display:none;\">\n",
              "        \n",
              "  <svg xmlns=\"http://www.w3.org/2000/svg\" height=\"24px\"viewBox=\"0 0 24 24\"\n",
              "       width=\"24px\">\n",
              "    <path d=\"M0 0h24v24H0V0z\" fill=\"none\"/>\n",
              "    <path d=\"M18.56 5.44l.94 2.06.94-2.06 2.06-.94-2.06-.94-.94-2.06-.94 2.06-2.06.94zm-11 1L8.5 8.5l.94-2.06 2.06-.94-2.06-.94L8.5 2.5l-.94 2.06-2.06.94zm10 10l.94 2.06.94-2.06 2.06-.94-2.06-.94-.94-2.06-.94 2.06-2.06.94z\"/><path d=\"M17.41 7.96l-1.37-1.37c-.4-.4-.92-.59-1.43-.59-.52 0-1.04.2-1.43.59L10.3 9.45l-7.72 7.72c-.78.78-.78 2.05 0 2.83L4 21.41c.39.39.9.59 1.41.59.51 0 1.02-.2 1.41-.59l7.78-7.78 2.81-2.81c.8-.78.8-2.07 0-2.86zM5.41 20L4 18.59l7.72-7.72 1.47 1.35L5.41 20z\"/>\n",
              "  </svg>\n",
              "      </button>\n",
              "      \n",
              "  <style>\n",
              "    .colab-df-container {\n",
              "      display:flex;\n",
              "      flex-wrap:wrap;\n",
              "      gap: 12px;\n",
              "    }\n",
              "\n",
              "    .colab-df-convert {\n",
              "      background-color: #E8F0FE;\n",
              "      border: none;\n",
              "      border-radius: 50%;\n",
              "      cursor: pointer;\n",
              "      display: none;\n",
              "      fill: #1967D2;\n",
              "      height: 32px;\n",
              "      padding: 0 0 0 0;\n",
              "      width: 32px;\n",
              "    }\n",
              "\n",
              "    .colab-df-convert:hover {\n",
              "      background-color: #E2EBFA;\n",
              "      box-shadow: 0px 1px 2px rgba(60, 64, 67, 0.3), 0px 1px 3px 1px rgba(60, 64, 67, 0.15);\n",
              "      fill: #174EA6;\n",
              "    }\n",
              "\n",
              "    [theme=dark] .colab-df-convert {\n",
              "      background-color: #3B4455;\n",
              "      fill: #D2E3FC;\n",
              "    }\n",
              "\n",
              "    [theme=dark] .colab-df-convert:hover {\n",
              "      background-color: #434B5C;\n",
              "      box-shadow: 0px 1px 3px 1px rgba(0, 0, 0, 0.15);\n",
              "      filter: drop-shadow(0px 1px 2px rgba(0, 0, 0, 0.3));\n",
              "      fill: #FFFFFF;\n",
              "    }\n",
              "  </style>\n",
              "\n",
              "      <script>\n",
              "        const buttonEl =\n",
              "          document.querySelector('#df-c9998eb0-e4c7-4a1b-ab66-fb17ff90d3ed button.colab-df-convert');\n",
              "        buttonEl.style.display =\n",
              "          google.colab.kernel.accessAllowed ? 'block' : 'none';\n",
              "\n",
              "        async function convertToInteractive(key) {\n",
              "          const element = document.querySelector('#df-c9998eb0-e4c7-4a1b-ab66-fb17ff90d3ed');\n",
              "          const dataTable =\n",
              "            await google.colab.kernel.invokeFunction('convertToInteractive',\n",
              "                                                     [key], {});\n",
              "          if (!dataTable) return;\n",
              "\n",
              "          const docLinkHtml = 'Like what you see? Visit the ' +\n",
              "            '<a target=\"_blank\" href=https://colab.research.google.com/notebooks/data_table.ipynb>data table notebook</a>'\n",
              "            + ' to learn more about interactive tables.';\n",
              "          element.innerHTML = '';\n",
              "          dataTable['output_type'] = 'display_data';\n",
              "          await google.colab.output.renderOutput(dataTable, element);\n",
              "          const docLink = document.createElement('div');\n",
              "          docLink.innerHTML = docLinkHtml;\n",
              "          element.appendChild(docLink);\n",
              "        }\n",
              "      </script>\n",
              "    </div>\n",
              "  </div>\n",
              "  "
            ]
          },
          "metadata": {},
          "execution_count": 21
        }
      ]
    },
    {
      "cell_type": "code",
      "source": [
        "import seaborn as sns\n",
        "\n",
        "plt.figure(figsize=(11,11))\n",
        "cor = hospital_train.corr()\n",
        "sns.heatmap(cor,annot = True, cmap=plt.cm.Reds)\n",
        "plt.show()"
      ],
      "metadata": {
        "colab": {
          "base_uri": "https://localhost:8080/",
          "height": 701
        },
        "id": "G6zQctcWNtm8",
        "outputId": "59e9ea13-5eec-470f-d29e-f601b89138f0"
      },
      "execution_count": null,
      "outputs": [
        {
          "output_type": "display_data",
          "data": {
            "text/plain": [
              "<Figure size 792x792 with 2 Axes>"
            ],
            "image/png": "[encoded data removed]"
          },
          "metadata": {
            "needs_background": "light"
          }
        }
      ]
    },
    {
      "cell_type": "markdown",
      "source": [
        "#6)피어슨 상관계수가 너무 높은 변수 sga1 삭제"
      ],
      "metadata": {
        "id": "ax8AnkqJ7b6r"
      }
    },
    {
      "cell_type": "code",
      "source": [
        "hospital_train = hospital_train.drop(['sga1'],axis=1)"
      ],
      "metadata": {
        "id": "q_iW9tl772hz"
      },
      "execution_count": null,
      "outputs": []
    },
    {
      "cell_type": "code",
      "source": [
        "hospital_train.info()"
      ],
      "metadata": {
        "colab": {
          "base_uri": "https://localhost:8080/"
        },
        "id": "KaTFYF2V-myV",
        "outputId": "5f5530e2-8061-46b7-a33e-0e1060ccf075"
      },
      "execution_count": null,
      "outputs": [
        {
          "output_type": "stream",
          "name": "stdout",
          "text": [
            "<class 'pandas.core.frame.DataFrame'>\n",
            "RangeIndex: 301 entries, 0 to 300\n",
            "Data columns (total 9 columns):\n",
            " #   Column        Non-Null Count  Dtype  \n",
            "---  ------        --------------  -----  \n",
            " 0   openDate      301 non-null    int64  \n",
            " 1   bedCount      301 non-null    float64\n",
            " 2   revenue1      301 non-null    float64\n",
            " 3   salescost1    301 non-null    float64\n",
            " 4   salary1       301 non-null    float64\n",
            " 5   liquidAsset1  301 non-null    float64\n",
            " 6   nonCAsset1    301 non-null    float64\n",
            " 7   netAsset1     301 non-null    float64\n",
            " 8   surplus1      301 non-null    float64\n",
            "dtypes: float64(8), int64(1)\n",
            "memory usage: 21.3 KB\n"
          ]
        }
      ]
    },
    {
      "cell_type": "markdown",
      "source": [
        "#7) 변수 표준화"
      ],
      "metadata": {
        "id": "acd92hSZ4DUv"
      }
    },
    {
      "cell_type": "code",
      "source": [
        "from sklearn.preprocessing import StandardScaler\n",
        "import pandas as pd\n",
        "\n",
        "scaler = StandardScaler()\n",
        "X_s = pd.DataFrame(scaler.fit_transform(hospital_train))\n",
        "X_s.head()\n",
        "X_ohe = pd.get_dummies(X_s)\n",
        "X_ohe.head()"
      ],
      "metadata": {
        "colab": {
          "base_uri": "https://localhost:8080/",
          "height": 206
        },
        "id": "0YR0mqgS4JT6",
        "outputId": "79f7cf78-da47-4bce-dda9-09d618e7f01e"
      },
      "execution_count": null,
      "outputs": [
        {
          "output_type": "execute_result",
          "data": {
            "text/plain": [
              "          0         1         2         3         4         5         6  \\\n",
              "0  0.237663  0.250076 -0.420024 -0.267479 -0.443912 -0.398431 -0.518766   \n",
              "1 -0.897900  2.246024 -0.355215 -0.238866 -0.365420 -0.317133 -0.306176   \n",
              "2  1.251288  2.738641 -0.579380 -0.197380 -0.661741 -0.517831 -0.660689   \n",
              "3 -0.555374  1.761900  2.966971 -0.267479  3.286244  1.541760  1.891841   \n",
              "4  0.008731  0.428437  1.803228 -0.267479  2.367846  0.457139  1.920768   \n",
              "\n",
              "          7         8  \n",
              "0 -0.241743  0.032499  \n",
              "1 -0.226561 -0.151636  \n",
              "2 -0.445611 -0.151636  \n",
              "3  0.640794  0.911987  \n",
              "4 -0.462777  0.958979  "
            ],
            "text/html": [
              "\n",
              "  <div id=\"df-ca2bb054-db46-44bd-9be5-22dd3ce1e7ef\">\n",
              "    <div class=\"colab-df-container\">\n",
              "      <div>\n",
              "<style scoped>\n",
              "    .dataframe tbody tr th:only-of-type {\n",
              "        vertical-align: middle;\n",
              "    }\n",
              "\n",
              "    .dataframe tbody tr th {\n",
              "        vertical-align: top;\n",
              "    }\n",
              "\n",
              "    .dataframe thead th {\n",
              "        text-align: right;\n",
              "    }\n",
              "</style>\n",
              "<table border=\"1\" class=\"dataframe\">\n",
              "  <thead>\n",
              "    <tr style=\"text-align: right;\">\n",
              "      <th></th>\n",
              "      <th>0</th>\n",
              "      <th>1</th>\n",
              "      <th>2</th>\n",
              "      <th>3</th>\n",
              "      <th>4</th>\n",
              "      <th>5</th>\n",
              "      <th>6</th>\n",
              "      <th>7</th>\n",
              "      <th>8</th>\n",
              "    </tr>\n",
              "  </thead>\n",
              "  <tbody>\n",
              "    <tr>\n",
              "      <th>0</th>\n",
              "      <td>0.237663</td>\n",
              "      <td>0.250076</td>\n",
              "      <td>-0.420024</td>\n",
              "      <td>-0.267479</td>\n",
              "      <td>-0.443912</td>\n",
              "      <td>-0.398431</td>\n",
              "      <td>-0.518766</td>\n",
              "      <td>-0.241743</td>\n",
              "      <td>0.032499</td>\n",
              "    </tr>\n",
              "    <tr>\n",
              "      <th>1</th>\n",
              "      <td>-0.897900</td>\n",
              "      <td>2.246024</td>\n",
              "      <td>-0.355215</td>\n",
              "      <td>-0.238866</td>\n",
              "      <td>-0.365420</td>\n",
              "      <td>-0.317133</td>\n",
              "      <td>-0.306176</td>\n",
              "      <td>-0.226561</td>\n",
              "      <td>-0.151636</td>\n",
              "    </tr>\n",
              "    <tr>\n",
              "      <th>2</th>\n",
              "      <td>1.251288</td>\n",
              "      <td>2.738641</td>\n",
              "      <td>-0.579380</td>\n",
              "      <td>-0.197380</td>\n",
              "      <td>-0.661741</td>\n",
              "      <td>-0.517831</td>\n",
              "      <td>-0.660689</td>\n",
              "      <td>-0.445611</td>\n",
              "      <td>-0.151636</td>\n",
              "    </tr>\n",
              "    <tr>\n",
              "      <th>3</th>\n",
              "      <td>-0.555374</td>\n",
              "      <td>1.761900</td>\n",
              "      <td>2.966971</td>\n",
              "      <td>-0.267479</td>\n",
              "      <td>3.286244</td>\n",
              "      <td>1.541760</td>\n",
              "      <td>1.891841</td>\n",
              "      <td>0.640794</td>\n",
              "      <td>0.911987</td>\n",
              "    </tr>\n",
              "    <tr>\n",
              "      <th>4</th>\n",
              "      <td>0.008731</td>\n",
              "      <td>0.428437</td>\n",
              "      <td>1.803228</td>\n",
              "      <td>-0.267479</td>\n",
              "      <td>2.367846</td>\n",
              "      <td>0.457139</td>\n",
              "      <td>1.920768</td>\n",
              "      <td>-0.462777</td>\n",
              "      <td>0.958979</td>\n",
              "    </tr>\n",
              "  </tbody>\n",
              "</table>\n",
              "</div>\n",
              "      <button class=\"colab-df-convert\" onclick=\"convertToInteractive('df-ca2bb054-db46-44bd-9be5-22dd3ce1e7ef')\"\n",
              "              title=\"Convert this dataframe to an interactive table.\"\n",
              "              style=\"display:none;\">\n",
              "        \n",
              "  <svg xmlns=\"http://www.w3.org/2000/svg\" height=\"24px\"viewBox=\"0 0 24 24\"\n",
              "       width=\"24px\">\n",
              "    <path d=\"M0 0h24v24H0V0z\" fill=\"none\"/>\n",
              "    <path d=\"M18.56 5.44l.94 2.06.94-2.06 2.06-.94-2.06-.94-.94-2.06-.94 2.06-2.06.94zm-11 1L8.5 8.5l.94-2.06 2.06-.94-2.06-.94L8.5 2.5l-.94 2.06-2.06.94zm10 10l.94 2.06.94-2.06 2.06-.94-2.06-.94-.94-2.06-.94 2.06-2.06.94z\"/><path d=\"M17.41 7.96l-1.37-1.37c-.4-.4-.92-.59-1.43-.59-.52 0-1.04.2-1.43.59L10.3 9.45l-7.72 7.72c-.78.78-.78 2.05 0 2.83L4 21.41c.39.39.9.59 1.41.59.51 0 1.02-.2 1.41-.59l7.78-7.78 2.81-2.81c.8-.78.8-2.07 0-2.86zM5.41 20L4 18.59l7.72-7.72 1.47 1.35L5.41 20z\"/>\n",
              "  </svg>\n",
              "      </button>\n",
              "      \n",
              "  <style>\n",
              "    .colab-df-container {\n",
              "      display:flex;\n",
              "      flex-wrap:wrap;\n",
              "      gap: 12px;\n",
              "    }\n",
              "\n",
              "    .colab-df-convert {\n",
              "      background-color: #E8F0FE;\n",
              "      border: none;\n",
              "      border-radius: 50%;\n",
              "      cursor: pointer;\n",
              "      display: none;\n",
              "      fill: #1967D2;\n",
              "      height: 32px;\n",
              "      padding: 0 0 0 0;\n",
              "      width: 32px;\n",
              "    }\n",
              "\n",
              "    .colab-df-convert:hover {\n",
              "      background-color: #E2EBFA;\n",
              "      box-shadow: 0px 1px 2px rgba(60, 64, 67, 0.3), 0px 1px 3px 1px rgba(60, 64, 67, 0.15);\n",
              "      fill: #174EA6;\n",
              "    }\n",
              "\n",
              "    [theme=dark] .colab-df-convert {\n",
              "      background-color: #3B4455;\n",
              "      fill: #D2E3FC;\n",
              "    }\n",
              "\n",
              "    [theme=dark] .colab-df-convert:hover {\n",
              "      background-color: #434B5C;\n",
              "      box-shadow: 0px 1px 3px 1px rgba(0, 0, 0, 0.15);\n",
              "      filter: drop-shadow(0px 1px 2px rgba(0, 0, 0, 0.3));\n",
              "      fill: #FFFFFF;\n",
              "    }\n",
              "  </style>\n",
              "\n",
              "      <script>\n",
              "        const buttonEl =\n",
              "          document.querySelector('#df-ca2bb054-db46-44bd-9be5-22dd3ce1e7ef button.colab-df-convert');\n",
              "        buttonEl.style.display =\n",
              "          google.colab.kernel.accessAllowed ? 'block' : 'none';\n",
              "\n",
              "        async function convertToInteractive(key) {\n",
              "          const element = document.querySelector('#df-ca2bb054-db46-44bd-9be5-22dd3ce1e7ef');\n",
              "          const dataTable =\n",
              "            await google.colab.kernel.invokeFunction('convertToInteractive',\n",
              "                                                     [key], {});\n",
              "          if (!dataTable) return;\n",
              "\n",
              "          const docLinkHtml = 'Like what you see? Visit the ' +\n",
              "            '<a target=\"_blank\" href=https://colab.research.google.com/notebooks/data_table.ipynb>data table notebook</a>'\n",
              "            + ' to learn more about interactive tables.';\n",
              "          element.innerHTML = '';\n",
              "          dataTable['output_type'] = 'display_data';\n",
              "          await google.colab.output.renderOutput(dataTable, element);\n",
              "          const docLink = document.createElement('div');\n",
              "          docLink.innerHTML = docLinkHtml;\n",
              "          element.appendChild(docLink);\n",
              "        }\n",
              "      </script>\n",
              "    </div>\n",
              "  </div>\n",
              "  "
            ]
          },
          "metadata": {},
          "execution_count": 37
        }
      ]
    },
    {
      "cell_type": "markdown",
      "source": [
        "#2-1. train_X,y 할당\n"
      ],
      "metadata": {
        "id": "z4kygeejQ8Bg"
      }
    },
    {
      "cell_type": "code",
      "source": [
        "X=hospital_train\n",
        "y= hospital['OC']"
      ],
      "metadata": {
        "id": "JEmfR933RgaQ"
      },
      "execution_count": null,
      "outputs": []
    },
    {
      "cell_type": "code",
      "source": [
        "X.shape, y.shape"
      ],
      "metadata": {
        "colab": {
          "base_uri": "https://localhost:8080/"
        },
        "id": "m2ITJj9nAFpI",
        "outputId": "5ce5097d-a6e1-4ecc-9628-2d0fd92b7f1e"
      },
      "execution_count": null,
      "outputs": [
        {
          "output_type": "execute_result",
          "data": {
            "text/plain": [
              "((301, 9), (301,))"
            ]
          },
          "metadata": {},
          "execution_count": 39
        }
      ]
    },
    {
      "cell_type": "code",
      "source": [
        "X.head(5)"
      ],
      "metadata": {
        "colab": {
          "base_uri": "https://localhost:8080/",
          "height": 206
        },
        "id": "Hpu3qfuEAJ9v",
        "outputId": "a66b3bee-a088-45ee-dc9a-585b4a9f03c1"
      },
      "execution_count": null,
      "outputs": [
        {
          "output_type": "execute_result",
          "data": {
            "text/plain": [
              "   openDate  bedCount      revenue1   salescost1       salary1  liquidAsset1  \\\n",
              "0  20071228     175.0  4.217530e+09          0.0  2.033835e+09  1.012700e+09   \n",
              "1  19970401     410.0  5.524218e+09  210410492.0  2.659892e+09  1.516732e+09   \n",
              "2  20161228     468.0  1.004522e+09  515483669.0  2.964023e+08  2.724421e+08   \n",
              "3  20000814     353.0  7.250734e+10          0.0  3.178605e+10  1.304154e+10   \n",
              "4  20050901     196.0  4.904354e+10          0.0  2.446078e+10  6.317084e+09   \n",
              "\n",
              "     nonCAsset1     netAsset1      surplus1  \n",
              "0  2.514586e+09  2.844460e+09  1.496394e+09  \n",
              "1  6.100799e+09  3.033907e+09  0.000000e+00  \n",
              "2  1.204810e+08  3.005088e+08  0.000000e+00  \n",
              "3  4.317936e+10  1.385710e+10  8.643659e+09  \n",
              "4  4.366733e+10  8.631164e+07  9.025550e+09  "
            ],
            "text/html": [
              "\n",
              "  <div id=\"df-94bf3f9e-6532-4f63-984c-d2f5341ca705\">\n",
              "    <div class=\"colab-df-container\">\n",
              "      <div>\n",
              "<style scoped>\n",
              "    .dataframe tbody tr th:only-of-type {\n",
              "        vertical-align: middle;\n",
              "    }\n",
              "\n",
              "    .dataframe tbody tr th {\n",
              "        vertical-align: top;\n",
              "    }\n",
              "\n",
              "    .dataframe thead th {\n",
              "        text-align: right;\n",
              "    }\n",
              "</style>\n",
              "<table border=\"1\" class=\"dataframe\">\n",
              "  <thead>\n",
              "    <tr style=\"text-align: right;\">\n",
              "      <th></th>\n",
              "      <th>openDate</th>\n",
              "      <th>bedCount</th>\n",
              "      <th>revenue1</th>\n",
              "      <th>salescost1</th>\n",
              "      <th>salary1</th>\n",
              "      <th>liquidAsset1</th>\n",
              "      <th>nonCAsset1</th>\n",
              "      <th>netAsset1</th>\n",
              "      <th>surplus1</th>\n",
              "    </tr>\n",
              "  </thead>\n",
              "  <tbody>\n",
              "    <tr>\n",
              "      <th>0</th>\n",
              "      <td>20071228</td>\n",
              "      <td>175.0</td>\n",
              "      <td>4.217530e+09</td>\n",
              "      <td>0.0</td>\n",
              "      <td>2.033835e+09</td>\n",
              "      <td>1.012700e+09</td>\n",
              "      <td>2.514586e+09</td>\n",
              "      <td>2.844460e+09</td>\n",
              "      <td>1.496394e+09</td>\n",
              "    </tr>\n",
              "    <tr>\n",
              "      <th>1</th>\n",
              "      <td>19970401</td>\n",
              "      <td>410.0</td>\n",
              "      <td>5.524218e+09</td>\n",
              "      <td>210410492.0</td>\n",
              "      <td>2.659892e+09</td>\n",
              "      <td>1.516732e+09</td>\n",
              "      <td>6.100799e+09</td>\n",
              "      <td>3.033907e+09</td>\n",
              "      <td>0.000000e+00</td>\n",
              "    </tr>\n",
              "    <tr>\n",
              "      <th>2</th>\n",
              "      <td>20161228</td>\n",
              "      <td>468.0</td>\n",
              "      <td>1.004522e+09</td>\n",
              "      <td>515483669.0</td>\n",
              "      <td>2.964023e+08</td>\n",
              "      <td>2.724421e+08</td>\n",
              "      <td>1.204810e+08</td>\n",
              "      <td>3.005088e+08</td>\n",
              "      <td>0.000000e+00</td>\n",
              "    </tr>\n",
              "    <tr>\n",
              "      <th>3</th>\n",
              "      <td>20000814</td>\n",
              "      <td>353.0</td>\n",
              "      <td>7.250734e+10</td>\n",
              "      <td>0.0</td>\n",
              "      <td>3.178605e+10</td>\n",
              "      <td>1.304154e+10</td>\n",
              "      <td>4.317936e+10</td>\n",
              "      <td>1.385710e+10</td>\n",
              "      <td>8.643659e+09</td>\n",
              "    </tr>\n",
              "    <tr>\n",
              "      <th>4</th>\n",
              "      <td>20050901</td>\n",
              "      <td>196.0</td>\n",
              "      <td>4.904354e+10</td>\n",
              "      <td>0.0</td>\n",
              "      <td>2.446078e+10</td>\n",
              "      <td>6.317084e+09</td>\n",
              "      <td>4.366733e+10</td>\n",
              "      <td>8.631164e+07</td>\n",
              "      <td>9.025550e+09</td>\n",
              "    </tr>\n",
              "  </tbody>\n",
              "</table>\n",
              "</div>\n",
              "      <button class=\"colab-df-convert\" onclick=\"convertToInteractive('df-94bf3f9e-6532-4f63-984c-d2f5341ca705')\"\n",
              "              title=\"Convert this dataframe to an interactive table.\"\n",
              "              style=\"display:none;\">\n",
              "        \n",
              "  <svg xmlns=\"http://www.w3.org/2000/svg\" height=\"24px\"viewBox=\"0 0 24 24\"\n",
              "       width=\"24px\">\n",
              "    <path d=\"M0 0h24v24H0V0z\" fill=\"none\"/>\n",
              "    <path d=\"M18.56 5.44l.94 2.06.94-2.06 2.06-.94-2.06-.94-.94-2.06-.94 2.06-2.06.94zm-11 1L8.5 8.5l.94-2.06 2.06-.94-2.06-.94L8.5 2.5l-.94 2.06-2.06.94zm10 10l.94 2.06.94-2.06 2.06-.94-2.06-.94-.94-2.06-.94 2.06-2.06.94z\"/><path d=\"M17.41 7.96l-1.37-1.37c-.4-.4-.92-.59-1.43-.59-.52 0-1.04.2-1.43.59L10.3 9.45l-7.72 7.72c-.78.78-.78 2.05 0 2.83L4 21.41c.39.39.9.59 1.41.59.51 0 1.02-.2 1.41-.59l7.78-7.78 2.81-2.81c.8-.78.8-2.07 0-2.86zM5.41 20L4 18.59l7.72-7.72 1.47 1.35L5.41 20z\"/>\n",
              "  </svg>\n",
              "      </button>\n",
              "      \n",
              "  <style>\n",
              "    .colab-df-container {\n",
              "      display:flex;\n",
              "      flex-wrap:wrap;\n",
              "      gap: 12px;\n",
              "    }\n",
              "\n",
              "    .colab-df-convert {\n",
              "      background-color: #E8F0FE;\n",
              "      border: none;\n",
              "      border-radius: 50%;\n",
              "      cursor: pointer;\n",
              "      display: none;\n",
              "      fill: #1967D2;\n",
              "      height: 32px;\n",
              "      padding: 0 0 0 0;\n",
              "      width: 32px;\n",
              "    }\n",
              "\n",
              "    .colab-df-convert:hover {\n",
              "      background-color: #E2EBFA;\n",
              "      box-shadow: 0px 1px 2px rgba(60, 64, 67, 0.3), 0px 1px 3px 1px rgba(60, 64, 67, 0.15);\n",
              "      fill: #174EA6;\n",
              "    }\n",
              "\n",
              "    [theme=dark] .colab-df-convert {\n",
              "      background-color: #3B4455;\n",
              "      fill: #D2E3FC;\n",
              "    }\n",
              "\n",
              "    [theme=dark] .colab-df-convert:hover {\n",
              "      background-color: #434B5C;\n",
              "      box-shadow: 0px 1px 3px 1px rgba(0, 0, 0, 0.15);\n",
              "      filter: drop-shadow(0px 1px 2px rgba(0, 0, 0, 0.3));\n",
              "      fill: #FFFFFF;\n",
              "    }\n",
              "  </style>\n",
              "\n",
              "      <script>\n",
              "        const buttonEl =\n",
              "          document.querySelector('#df-94bf3f9e-6532-4f63-984c-d2f5341ca705 button.colab-df-convert');\n",
              "        buttonEl.style.display =\n",
              "          google.colab.kernel.accessAllowed ? 'block' : 'none';\n",
              "\n",
              "        async function convertToInteractive(key) {\n",
              "          const element = document.querySelector('#df-94bf3f9e-6532-4f63-984c-d2f5341ca705');\n",
              "          const dataTable =\n",
              "            await google.colab.kernel.invokeFunction('convertToInteractive',\n",
              "                                                     [key], {});\n",
              "          if (!dataTable) return;\n",
              "\n",
              "          const docLinkHtml = 'Like what you see? Visit the ' +\n",
              "            '<a target=\"_blank\" href=https://colab.research.google.com/notebooks/data_table.ipynb>data table notebook</a>'\n",
              "            + ' to learn more about interactive tables.';\n",
              "          element.innerHTML = '';\n",
              "          dataTable['output_type'] = 'display_data';\n",
              "          await google.colab.output.renderOutput(dataTable, element);\n",
              "          const docLink = document.createElement('div');\n",
              "          docLink.innerHTML = docLinkHtml;\n",
              "          element.appendChild(docLink);\n",
              "        }\n",
              "      </script>\n",
              "    </div>\n",
              "  </div>\n",
              "  "
            ]
          },
          "metadata": {},
          "execution_count": 40
        }
      ]
    },
    {
      "cell_type": "code",
      "source": [
        "y.head(5)"
      ],
      "metadata": {
        "colab": {
          "base_uri": "https://localhost:8080/"
        },
        "id": "zStBOUQYKBaX",
        "outputId": "3eff1465-1334-4d9c-a3f5-a7525e0dbf4c"
      },
      "execution_count": null,
      "outputs": [
        {
          "output_type": "execute_result",
          "data": {
            "text/plain": [
              "0    open\n",
              "1    open\n",
              "2    open\n",
              "3    open\n",
              "4    open\n",
              "Name: OC, dtype: object"
            ]
          },
          "metadata": {},
          "execution_count": 41
        }
      ]
    },
    {
      "cell_type": "markdown",
      "source": [
        "- onehotencoding"
      ],
      "metadata": {
        "id": "y9A__czU5x3_"
      }
    },
    {
      "cell_type": "code",
      "source": [
        "y = pd.get_dummies(y)\n",
        "y.head()"
      ],
      "metadata": {
        "colab": {
          "base_uri": "https://localhost:8080/",
          "height": 206
        },
        "id": "5Og6Y5guKMpo",
        "outputId": "71254af0-6d87-4bcb-f69e-68d3fbd4d981"
      },
      "execution_count": null,
      "outputs": [
        {
          "output_type": "execute_result",
          "data": {
            "text/plain": [
              "    close  open\n",
              "0       0     1\n",
              "1       0     1\n",
              "2       0     1\n",
              "3       0     1\n",
              "4       0     1"
            ],
            "text/html": [
              "\n",
              "  <div id=\"df-0a1d190c-a40e-41a9-94ae-a88dc0661df4\">\n",
              "    <div class=\"colab-df-container\">\n",
              "      <div>\n",
              "<style scoped>\n",
              "    .dataframe tbody tr th:only-of-type {\n",
              "        vertical-align: middle;\n",
              "    }\n",
              "\n",
              "    .dataframe tbody tr th {\n",
              "        vertical-align: top;\n",
              "    }\n",
              "\n",
              "    .dataframe thead th {\n",
              "        text-align: right;\n",
              "    }\n",
              "</style>\n",
              "<table border=\"1\" class=\"dataframe\">\n",
              "  <thead>\n",
              "    <tr style=\"text-align: right;\">\n",
              "      <th></th>\n",
              "      <th>close</th>\n",
              "      <th>open</th>\n",
              "    </tr>\n",
              "  </thead>\n",
              "  <tbody>\n",
              "    <tr>\n",
              "      <th>0</th>\n",
              "      <td>0</td>\n",
              "      <td>1</td>\n",
              "    </tr>\n",
              "    <tr>\n",
              "      <th>1</th>\n",
              "      <td>0</td>\n",
              "      <td>1</td>\n",
              "    </tr>\n",
              "    <tr>\n",
              "      <th>2</th>\n",
              "      <td>0</td>\n",
              "      <td>1</td>\n",
              "    </tr>\n",
              "    <tr>\n",
              "      <th>3</th>\n",
              "      <td>0</td>\n",
              "      <td>1</td>\n",
              "    </tr>\n",
              "    <tr>\n",
              "      <th>4</th>\n",
              "      <td>0</td>\n",
              "      <td>1</td>\n",
              "    </tr>\n",
              "  </tbody>\n",
              "</table>\n",
              "</div>\n",
              "      <button class=\"colab-df-convert\" onclick=\"convertToInteractive('df-0a1d190c-a40e-41a9-94ae-a88dc0661df4')\"\n",
              "              title=\"Convert this dataframe to an interactive table.\"\n",
              "              style=\"display:none;\">\n",
              "        \n",
              "  <svg xmlns=\"http://www.w3.org/2000/svg\" height=\"24px\"viewBox=\"0 0 24 24\"\n",
              "       width=\"24px\">\n",
              "    <path d=\"M0 0h24v24H0V0z\" fill=\"none\"/>\n",
              "    <path d=\"M18.56 5.44l.94 2.06.94-2.06 2.06-.94-2.06-.94-.94-2.06-.94 2.06-2.06.94zm-11 1L8.5 8.5l.94-2.06 2.06-.94-2.06-.94L8.5 2.5l-.94 2.06-2.06.94zm10 10l.94 2.06.94-2.06 2.06-.94-2.06-.94-.94-2.06-.94 2.06-2.06.94z\"/><path d=\"M17.41 7.96l-1.37-1.37c-.4-.4-.92-.59-1.43-.59-.52 0-1.04.2-1.43.59L10.3 9.45l-7.72 7.72c-.78.78-.78 2.05 0 2.83L4 21.41c.39.39.9.59 1.41.59.51 0 1.02-.2 1.41-.59l7.78-7.78 2.81-2.81c.8-.78.8-2.07 0-2.86zM5.41 20L4 18.59l7.72-7.72 1.47 1.35L5.41 20z\"/>\n",
              "  </svg>\n",
              "      </button>\n",
              "      \n",
              "  <style>\n",
              "    .colab-df-container {\n",
              "      display:flex;\n",
              "      flex-wrap:wrap;\n",
              "      gap: 12px;\n",
              "    }\n",
              "\n",
              "    .colab-df-convert {\n",
              "      background-color: #E8F0FE;\n",
              "      border: none;\n",
              "      border-radius: 50%;\n",
              "      cursor: pointer;\n",
              "      display: none;\n",
              "      fill: #1967D2;\n",
              "      height: 32px;\n",
              "      padding: 0 0 0 0;\n",
              "      width: 32px;\n",
              "    }\n",
              "\n",
              "    .colab-df-convert:hover {\n",
              "      background-color: #E2EBFA;\n",
              "      box-shadow: 0px 1px 2px rgba(60, 64, 67, 0.3), 0px 1px 3px 1px rgba(60, 64, 67, 0.15);\n",
              "      fill: #174EA6;\n",
              "    }\n",
              "\n",
              "    [theme=dark] .colab-df-convert {\n",
              "      background-color: #3B4455;\n",
              "      fill: #D2E3FC;\n",
              "    }\n",
              "\n",
              "    [theme=dark] .colab-df-convert:hover {\n",
              "      background-color: #434B5C;\n",
              "      box-shadow: 0px 1px 3px 1px rgba(0, 0, 0, 0.15);\n",
              "      filter: drop-shadow(0px 1px 2px rgba(0, 0, 0, 0.3));\n",
              "      fill: #FFFFFF;\n",
              "    }\n",
              "  </style>\n",
              "\n",
              "      <script>\n",
              "        const buttonEl =\n",
              "          document.querySelector('#df-0a1d190c-a40e-41a9-94ae-a88dc0661df4 button.colab-df-convert');\n",
              "        buttonEl.style.display =\n",
              "          google.colab.kernel.accessAllowed ? 'block' : 'none';\n",
              "\n",
              "        async function convertToInteractive(key) {\n",
              "          const element = document.querySelector('#df-0a1d190c-a40e-41a9-94ae-a88dc0661df4');\n",
              "          const dataTable =\n",
              "            await google.colab.kernel.invokeFunction('convertToInteractive',\n",
              "                                                     [key], {});\n",
              "          if (!dataTable) return;\n",
              "\n",
              "          const docLinkHtml = 'Like what you see? Visit the ' +\n",
              "            '<a target=\"_blank\" href=https://colab.research.google.com/notebooks/data_table.ipynb>data table notebook</a>'\n",
              "            + ' to learn more about interactive tables.';\n",
              "          element.innerHTML = '';\n",
              "          dataTable['output_type'] = 'display_data';\n",
              "          await google.colab.output.renderOutput(dataTable, element);\n",
              "          const docLink = document.createElement('div');\n",
              "          docLink.innerHTML = docLinkHtml;\n",
              "          element.appendChild(docLink);\n",
              "        }\n",
              "      </script>\n",
              "    </div>\n",
              "  </div>\n",
              "  "
            ]
          },
          "metadata": {},
          "execution_count": 42
        }
      ]
    },
    {
      "cell_type": "markdown",
      "source": [
        "#2-2. test 할당: X_test,y_test"
      ],
      "metadata": {
        "id": "jMtdeq326McC"
      }
    },
    {
      "cell_type": "code",
      "source": [
        "hospital = pd.read_csv(\"test.csv\")"
      ],
      "metadata": {
        "id": "BjOE9lbOO1TI"
      },
      "execution_count": null,
      "outputs": []
    },
    {
      "cell_type": "code",
      "source": [
        "X_test = hospital[['openDate','bedCount','revenue1','salescost1','sga1','salary1','liquidAsset1','nonCAsset1','netAsset1','surplus1']]"
      ],
      "metadata": {
        "id": "eJHoT_bE6dJv"
      },
      "execution_count": null,
      "outputs": []
    },
    {
      "cell_type": "code",
      "source": [
        "y_test = hospital[['OC']]"
      ],
      "metadata": {
        "id": "dm272NKS6dDo"
      },
      "execution_count": null,
      "outputs": []
    },
    {
      "cell_type": "code",
      "source": [
        "X_test.head()"
      ],
      "metadata": {
        "colab": {
          "base_uri": "https://localhost:8080/",
          "height": 206
        },
        "id": "DwiuKYHj6c-K",
        "outputId": "3e33caaf-27d6-41d2-cf7f-74bbac3ece58"
      },
      "execution_count": null,
      "outputs": [
        {
          "output_type": "execute_result",
          "data": {
            "text/plain": [
              "     openDate  bedCount      revenue1    salescost1          sga1  \\\n",
              "0  19981125.0     300.0  6.682486e+10  0.000000e+00  6.565709e+10   \n",
              "1  20160309.0      44.0  3.495758e+10  0.000000e+00  3.259270e+10   \n",
              "2  19890427.0     276.0  2.326031e+10  2.542571e+09  2.308749e+10   \n",
              "3  20100226.0     363.0  0.000000e+00  0.000000e+00  0.000000e+00   \n",
              "4  20040604.0     213.0  5.037025e+10  0.000000e+00  4.855803e+10   \n",
              "\n",
              "        salary1  liquidAsset1    nonCAsset1     netAsset1      surplus1  \n",
              "0  3.223695e+10  2.591385e+10  4.807282e+10  6.295769e+09  8.944587e+09  \n",
              "1  1.672254e+10  5.861727e+09  7.511010e+10  1.470447e+10  1.046277e+10  \n",
              "2  1.168734e+10  1.265313e+10  2.945467e+10  0.000000e+00  1.638540e+10  \n",
              "3  0.000000e+00  8.644533e+09  6.730264e+10  4.702837e+10  0.000000e+00  \n",
              "4  2.296346e+10  7.849772e+09  6.404854e+10  2.268194e+10  1.492691e+10  "
            ],
            "text/html": [
              "\n",
              "  <div id=\"df-5ea5f034-8cda-4397-b35d-583699098df8\">\n",
              "    <div class=\"colab-df-container\">\n",
              "      <div>\n",
              "<style scoped>\n",
              "    .dataframe tbody tr th:only-of-type {\n",
              "        vertical-align: middle;\n",
              "    }\n",
              "\n",
              "    .dataframe tbody tr th {\n",
              "        vertical-align: top;\n",
              "    }\n",
              "\n",
              "    .dataframe thead th {\n",
              "        text-align: right;\n",
              "    }\n",
              "</style>\n",
              "<table border=\"1\" class=\"dataframe\">\n",
              "  <thead>\n",
              "    <tr style=\"text-align: right;\">\n",
              "      <th></th>\n",
              "      <th>openDate</th>\n",
              "      <th>bedCount</th>\n",
              "      <th>revenue1</th>\n",
              "      <th>salescost1</th>\n",
              "      <th>sga1</th>\n",
              "      <th>salary1</th>\n",
              "      <th>liquidAsset1</th>\n",
              "      <th>nonCAsset1</th>\n",
              "      <th>netAsset1</th>\n",
              "      <th>surplus1</th>\n",
              "    </tr>\n",
              "  </thead>\n",
              "  <tbody>\n",
              "    <tr>\n",
              "      <th>0</th>\n",
              "      <td>19981125.0</td>\n",
              "      <td>300.0</td>\n",
              "      <td>6.682486e+10</td>\n",
              "      <td>0.000000e+00</td>\n",
              "      <td>6.565709e+10</td>\n",
              "      <td>3.223695e+10</td>\n",
              "      <td>2.591385e+10</td>\n",
              "      <td>4.807282e+10</td>\n",
              "      <td>6.295769e+09</td>\n",
              "      <td>8.944587e+09</td>\n",
              "    </tr>\n",
              "    <tr>\n",
              "      <th>1</th>\n",
              "      <td>20160309.0</td>\n",
              "      <td>44.0</td>\n",
              "      <td>3.495758e+10</td>\n",
              "      <td>0.000000e+00</td>\n",
              "      <td>3.259270e+10</td>\n",
              "      <td>1.672254e+10</td>\n",
              "      <td>5.861727e+09</td>\n",
              "      <td>7.511010e+10</td>\n",
              "      <td>1.470447e+10</td>\n",
              "      <td>1.046277e+10</td>\n",
              "    </tr>\n",
              "    <tr>\n",
              "      <th>2</th>\n",
              "      <td>19890427.0</td>\n",
              "      <td>276.0</td>\n",
              "      <td>2.326031e+10</td>\n",
              "      <td>2.542571e+09</td>\n",
              "      <td>2.308749e+10</td>\n",
              "      <td>1.168734e+10</td>\n",
              "      <td>1.265313e+10</td>\n",
              "      <td>2.945467e+10</td>\n",
              "      <td>0.000000e+00</td>\n",
              "      <td>1.638540e+10</td>\n",
              "    </tr>\n",
              "    <tr>\n",
              "      <th>3</th>\n",
              "      <td>20100226.0</td>\n",
              "      <td>363.0</td>\n",
              "      <td>0.000000e+00</td>\n",
              "      <td>0.000000e+00</td>\n",
              "      <td>0.000000e+00</td>\n",
              "      <td>0.000000e+00</td>\n",
              "      <td>8.644533e+09</td>\n",
              "      <td>6.730264e+10</td>\n",
              "      <td>4.702837e+10</td>\n",
              "      <td>0.000000e+00</td>\n",
              "    </tr>\n",
              "    <tr>\n",
              "      <th>4</th>\n",
              "      <td>20040604.0</td>\n",
              "      <td>213.0</td>\n",
              "      <td>5.037025e+10</td>\n",
              "      <td>0.000000e+00</td>\n",
              "      <td>4.855803e+10</td>\n",
              "      <td>2.296346e+10</td>\n",
              "      <td>7.849772e+09</td>\n",
              "      <td>6.404854e+10</td>\n",
              "      <td>2.268194e+10</td>\n",
              "      <td>1.492691e+10</td>\n",
              "    </tr>\n",
              "  </tbody>\n",
              "</table>\n",
              "</div>\n",
              "      <button class=\"colab-df-convert\" onclick=\"convertToInteractive('df-5ea5f034-8cda-4397-b35d-583699098df8')\"\n",
              "              title=\"Convert this dataframe to an interactive table.\"\n",
              "              style=\"display:none;\">\n",
              "        \n",
              "  <svg xmlns=\"http://www.w3.org/2000/svg\" height=\"24px\"viewBox=\"0 0 24 24\"\n",
              "       width=\"24px\">\n",
              "    <path d=\"M0 0h24v24H0V0z\" fill=\"none\"/>\n",
              "    <path d=\"M18.56 5.44l.94 2.06.94-2.06 2.06-.94-2.06-.94-.94-2.06-.94 2.06-2.06.94zm-11 1L8.5 8.5l.94-2.06 2.06-.94-2.06-.94L8.5 2.5l-.94 2.06-2.06.94zm10 10l.94 2.06.94-2.06 2.06-.94-2.06-.94-.94-2.06-.94 2.06-2.06.94z\"/><path d=\"M17.41 7.96l-1.37-1.37c-.4-.4-.92-.59-1.43-.59-.52 0-1.04.2-1.43.59L10.3 9.45l-7.72 7.72c-.78.78-.78 2.05 0 2.83L4 21.41c.39.39.9.59 1.41.59.51 0 1.02-.2 1.41-.59l7.78-7.78 2.81-2.81c.8-.78.8-2.07 0-2.86zM5.41 20L4 18.59l7.72-7.72 1.47 1.35L5.41 20z\"/>\n",
              "  </svg>\n",
              "      </button>\n",
              "      \n",
              "  <style>\n",
              "    .colab-df-container {\n",
              "      display:flex;\n",
              "      flex-wrap:wrap;\n",
              "      gap: 12px;\n",
              "    }\n",
              "\n",
              "    .colab-df-convert {\n",
              "      background-color: #E8F0FE;\n",
              "      border: none;\n",
              "      border-radius: 50%;\n",
              "      cursor: pointer;\n",
              "      display: none;\n",
              "      fill: #1967D2;\n",
              "      height: 32px;\n",
              "      padding: 0 0 0 0;\n",
              "      width: 32px;\n",
              "    }\n",
              "\n",
              "    .colab-df-convert:hover {\n",
              "      background-color: #E2EBFA;\n",
              "      box-shadow: 0px 1px 2px rgba(60, 64, 67, 0.3), 0px 1px 3px 1px rgba(60, 64, 67, 0.15);\n",
              "      fill: #174EA6;\n",
              "    }\n",
              "\n",
              "    [theme=dark] .colab-df-convert {\n",
              "      background-color: #3B4455;\n",
              "      fill: #D2E3FC;\n",
              "    }\n",
              "\n",
              "    [theme=dark] .colab-df-convert:hover {\n",
              "      background-color: #434B5C;\n",
              "      box-shadow: 0px 1px 3px 1px rgba(0, 0, 0, 0.15);\n",
              "      filter: drop-shadow(0px 1px 2px rgba(0, 0, 0, 0.3));\n",
              "      fill: #FFFFFF;\n",
              "    }\n",
              "  </style>\n",
              "\n",
              "      <script>\n",
              "        const buttonEl =\n",
              "          document.querySelector('#df-5ea5f034-8cda-4397-b35d-583699098df8 button.colab-df-convert');\n",
              "        buttonEl.style.display =\n",
              "          google.colab.kernel.accessAllowed ? 'block' : 'none';\n",
              "\n",
              "        async function convertToInteractive(key) {\n",
              "          const element = document.querySelector('#df-5ea5f034-8cda-4397-b35d-583699098df8');\n",
              "          const dataTable =\n",
              "            await google.colab.kernel.invokeFunction('convertToInteractive',\n",
              "                                                     [key], {});\n",
              "          if (!dataTable) return;\n",
              "\n",
              "          const docLinkHtml = 'Like what you see? Visit the ' +\n",
              "            '<a target=\"_blank\" href=https://colab.research.google.com/notebooks/data_table.ipynb>data table notebook</a>'\n",
              "            + ' to learn more about interactive tables.';\n",
              "          element.innerHTML = '';\n",
              "          dataTable['output_type'] = 'display_data';\n",
              "          await google.colab.output.renderOutput(dataTable, element);\n",
              "          const docLink = document.createElement('div');\n",
              "          docLink.innerHTML = docLinkHtml;\n",
              "          element.appendChild(docLink);\n",
              "        }\n",
              "      </script>\n",
              "    </div>\n",
              "  </div>\n",
              "  "
            ]
          },
          "metadata": {},
          "execution_count": 49
        }
      ]
    },
    {
      "cell_type": "markdown",
      "source": [
        "#3-1) Logistic Regression"
      ],
      "metadata": {
        "id": "BkdxaVut331Q"
      }
    },
    {
      "cell_type": "code",
      "source": [
        "softmax_reg = LogisticRegression(multi_class=\"multinomial\", solver=\"lbfgs\", max_iter=1000)"
      ],
      "metadata": {
        "id": "rX2QzZsnUMlx"
      },
      "execution_count": null,
      "outputs": []
    },
    {
      "cell_type": "code",
      "source": [
        "softmax_reg.fit(X,y)"
      ],
      "metadata": {
        "colab": {
          "base_uri": "https://localhost:8080/",
          "height": 327
        },
        "id": "qbHdDr6GLeVC",
        "outputId": "b7624786-6973-4049-d2b1-7750d5992461"
      },
      "execution_count": null,
      "outputs": [
        {
          "output_type": "error",
          "ename": "ValueError",
          "evalue": "ignored",
          "traceback": [
            "\u001b[0;31m---------------------------------------------------------------------------\u001b[0m",
            "\u001b[0;31mValueError\u001b[0m                                Traceback (most recent call last)",
            "\u001b[0;32m<ipython-input-44-10f1393342c8>\u001b[0m in \u001b[0;36m<module>\u001b[0;34m\u001b[0m\n\u001b[0;32m----> 1\u001b[0;31m \u001b[0msoftmax_reg\u001b[0m\u001b[0;34m.\u001b[0m\u001b[0mfit\u001b[0m\u001b[0;34m(\u001b[0m\u001b[0mX\u001b[0m\u001b[0;34m,\u001b[0m\u001b[0my\u001b[0m\u001b[0;34m)\u001b[0m\u001b[0;34m\u001b[0m\u001b[0;34m\u001b[0m\u001b[0m\n\u001b[0m",
            "\u001b[0;32m/usr/local/lib/python3.8/dist-packages/sklearn/linear_model/_logistic.py\u001b[0m in \u001b[0;36mfit\u001b[0;34m(self, X, y, sample_weight)\u001b[0m\n\u001b[1;32m   1506\u001b[0m             \u001b[0m_dtype\u001b[0m \u001b[0;34m=\u001b[0m \u001b[0;34m[\u001b[0m\u001b[0mnp\u001b[0m\u001b[0;34m.\u001b[0m\u001b[0mfloat64\u001b[0m\u001b[0;34m,\u001b[0m \u001b[0mnp\u001b[0m\u001b[0;34m.\u001b[0m\u001b[0mfloat32\u001b[0m\u001b[0;34m]\u001b[0m\u001b[0;34m\u001b[0m\u001b[0;34m\u001b[0m\u001b[0m\n\u001b[1;32m   1507\u001b[0m \u001b[0;34m\u001b[0m\u001b[0m\n\u001b[0;32m-> 1508\u001b[0;31m         X, y = self._validate_data(\n\u001b[0m\u001b[1;32m   1509\u001b[0m             \u001b[0mX\u001b[0m\u001b[0;34m,\u001b[0m\u001b[0;34m\u001b[0m\u001b[0;34m\u001b[0m\u001b[0m\n\u001b[1;32m   1510\u001b[0m             \u001b[0my\u001b[0m\u001b[0;34m,\u001b[0m\u001b[0;34m\u001b[0m\u001b[0;34m\u001b[0m\u001b[0m\n",
            "\u001b[0;32m/usr/local/lib/python3.8/dist-packages/sklearn/base.py\u001b[0m in \u001b[0;36m_validate_data\u001b[0;34m(self, X, y, reset, validate_separately, **check_params)\u001b[0m\n\u001b[1;32m    579\u001b[0m                 \u001b[0my\u001b[0m \u001b[0;34m=\u001b[0m \u001b[0mcheck_array\u001b[0m\u001b[0;34m(\u001b[0m\u001b[0my\u001b[0m\u001b[0;34m,\u001b[0m \u001b[0;34m**\u001b[0m\u001b[0mcheck_y_params\u001b[0m\u001b[0;34m)\u001b[0m\u001b[0;34m\u001b[0m\u001b[0;34m\u001b[0m\u001b[0m\n\u001b[1;32m    580\u001b[0m             \u001b[0;32melse\u001b[0m\u001b[0;34m:\u001b[0m\u001b[0;34m\u001b[0m\u001b[0;34m\u001b[0m\u001b[0m\n\u001b[0;32m--> 581\u001b[0;31m                 \u001b[0mX\u001b[0m\u001b[0;34m,\u001b[0m \u001b[0my\u001b[0m \u001b[0;34m=\u001b[0m \u001b[0mcheck_X_y\u001b[0m\u001b[0;34m(\u001b[0m\u001b[0mX\u001b[0m\u001b[0;34m,\u001b[0m \u001b[0my\u001b[0m\u001b[0;34m,\u001b[0m \u001b[0;34m**\u001b[0m\u001b[0mcheck_params\u001b[0m\u001b[0;34m)\u001b[0m\u001b[0;34m\u001b[0m\u001b[0;34m\u001b[0m\u001b[0m\n\u001b[0m\u001b[1;32m    582\u001b[0m             \u001b[0mout\u001b[0m \u001b[0;34m=\u001b[0m \u001b[0mX\u001b[0m\u001b[0;34m,\u001b[0m \u001b[0my\u001b[0m\u001b[0;34m\u001b[0m\u001b[0;34m\u001b[0m\u001b[0m\n\u001b[1;32m    583\u001b[0m \u001b[0;34m\u001b[0m\u001b[0m\n",
            "\u001b[0;32m/usr/local/lib/python3.8/dist-packages/sklearn/utils/validation.py\u001b[0m in \u001b[0;36mcheck_X_y\u001b[0;34m(X, y, accept_sparse, accept_large_sparse, dtype, order, copy, force_all_finite, ensure_2d, allow_nd, multi_output, ensure_min_samples, ensure_min_features, y_numeric, estimator)\u001b[0m\n\u001b[1;32m    977\u001b[0m     )\n\u001b[1;32m    978\u001b[0m \u001b[0;34m\u001b[0m\u001b[0m\n\u001b[0;32m--> 979\u001b[0;31m     \u001b[0my\u001b[0m \u001b[0;34m=\u001b[0m \u001b[0m_check_y\u001b[0m\u001b[0;34m(\u001b[0m\u001b[0my\u001b[0m\u001b[0;34m,\u001b[0m \u001b[0mmulti_output\u001b[0m\u001b[0;34m=\u001b[0m\u001b[0mmulti_output\u001b[0m\u001b[0;34m,\u001b[0m \u001b[0my_numeric\u001b[0m\u001b[0;34m=\u001b[0m\u001b[0my_numeric\u001b[0m\u001b[0;34m)\u001b[0m\u001b[0;34m\u001b[0m\u001b[0;34m\u001b[0m\u001b[0m\n\u001b[0m\u001b[1;32m    980\u001b[0m \u001b[0;34m\u001b[0m\u001b[0m\n\u001b[1;32m    981\u001b[0m     \u001b[0mcheck_consistent_length\u001b[0m\u001b[0;34m(\u001b[0m\u001b[0mX\u001b[0m\u001b[0;34m,\u001b[0m \u001b[0my\u001b[0m\u001b[0;34m)\u001b[0m\u001b[0;34m\u001b[0m\u001b[0;34m\u001b[0m\u001b[0m\n",
            "\u001b[0;32m/usr/local/lib/python3.8/dist-packages/sklearn/utils/validation.py\u001b[0m in \u001b[0;36m_check_y\u001b[0;34m(y, multi_output, y_numeric)\u001b[0m\n\u001b[1;32m    991\u001b[0m         )\n\u001b[1;32m    992\u001b[0m     \u001b[0;32melse\u001b[0m\u001b[0;34m:\u001b[0m\u001b[0;34m\u001b[0m\u001b[0;34m\u001b[0m\u001b[0m\n\u001b[0;32m--> 993\u001b[0;31m         \u001b[0my\u001b[0m \u001b[0;34m=\u001b[0m \u001b[0mcolumn_or_1d\u001b[0m\u001b[0;34m(\u001b[0m\u001b[0my\u001b[0m\u001b[0;34m,\u001b[0m \u001b[0mwarn\u001b[0m\u001b[0;34m=\u001b[0m\u001b[0;32mTrue\u001b[0m\u001b[0;34m)\u001b[0m\u001b[0;34m\u001b[0m\u001b[0;34m\u001b[0m\u001b[0m\n\u001b[0m\u001b[1;32m    994\u001b[0m         \u001b[0m_assert_all_finite\u001b[0m\u001b[0;34m(\u001b[0m\u001b[0my\u001b[0m\u001b[0;34m)\u001b[0m\u001b[0;34m\u001b[0m\u001b[0;34m\u001b[0m\u001b[0m\n\u001b[1;32m    995\u001b[0m         \u001b[0m_ensure_no_complex_data\u001b[0m\u001b[0;34m(\u001b[0m\u001b[0my\u001b[0m\u001b[0;34m)\u001b[0m\u001b[0;34m\u001b[0m\u001b[0;34m\u001b[0m\u001b[0m\n",
            "\u001b[0;32m/usr/local/lib/python3.8/dist-packages/sklearn/utils/validation.py\u001b[0m in \u001b[0;36mcolumn_or_1d\u001b[0;34m(y, warn)\u001b[0m\n\u001b[1;32m   1036\u001b[0m         \u001b[0;32mreturn\u001b[0m \u001b[0mnp\u001b[0m\u001b[0;34m.\u001b[0m\u001b[0mravel\u001b[0m\u001b[0;34m(\u001b[0m\u001b[0my\u001b[0m\u001b[0;34m)\u001b[0m\u001b[0;34m\u001b[0m\u001b[0;34m\u001b[0m\u001b[0m\n\u001b[1;32m   1037\u001b[0m \u001b[0;34m\u001b[0m\u001b[0m\n\u001b[0;32m-> 1038\u001b[0;31m     raise ValueError(\n\u001b[0m\u001b[1;32m   1039\u001b[0m         \u001b[0;34m\"y should be a 1d array, got an array of shape {} instead.\"\u001b[0m\u001b[0;34m.\u001b[0m\u001b[0mformat\u001b[0m\u001b[0;34m(\u001b[0m\u001b[0mshape\u001b[0m\u001b[0;34m)\u001b[0m\u001b[0;34m\u001b[0m\u001b[0;34m\u001b[0m\u001b[0m\n\u001b[1;32m   1040\u001b[0m     )\n",
            "\u001b[0;31mValueError\u001b[0m: y should be a 1d array, got an array of shape (301, 2) instead."
          ]
        }
      ]
    },
    {
      "cell_type": "code",
      "source": [],
      "metadata": {
        "id": "DhJkHq_-Leal"
      },
      "execution_count": null,
      "outputs": []
    },
    {
      "cell_type": "code",
      "source": [],
      "metadata": {
        "id": "jOp9I3U6LedJ"
      },
      "execution_count": null,
      "outputs": []
    },
    {
      "cell_type": "markdown",
      "source": [
        "#3-2) SVM"
      ],
      "metadata": {
        "id": "kSSa9SJlUPle"
      }
    },
    {
      "cell_type": "markdown",
      "source": [
        "#나이브베이스학습"
      ],
      "metadata": {
        "id": "O5RbZhWhVos8"
      }
    },
    {
      "cell_type": "markdown",
      "source": [
        "모형 학습 및 예측"
      ],
      "metadata": {
        "id": "fUYtTuxj8YmP"
      }
    },
    {
      "cell_type": "code",
      "source": [
        "from sklearn.naive_bayes import GaussianNB\n",
        "\n",
        "gnb = GaussianNB() \n",
        "gnb.fit(X,y)\n",
        "y_pred = gnb.predict(X_test) \n",
        "y_pred"
      ],
      "metadata": {
        "id": "MaKQauxJVJ0R",
        "colab": {
          "base_uri": "https://localhost:8080/",
          "height": 400
        },
        "outputId": "ea6c1c46-706b-472b-f4e9-d4ee342dd77b"
      },
      "execution_count": 54,
      "outputs": [
        {
          "output_type": "error",
          "ename": "ValueError",
          "evalue": "ignored",
          "traceback": [
            "\u001b[0;31m---------------------------------------------------------------------------\u001b[0m",
            "\u001b[0;31mValueError\u001b[0m                                Traceback (most recent call last)",
            "\u001b[0;32m<ipython-input-54-23590b64d399>\u001b[0m in \u001b[0;36m<module>\u001b[0;34m\u001b[0m\n\u001b[1;32m      2\u001b[0m \u001b[0;34m\u001b[0m\u001b[0m\n\u001b[1;32m      3\u001b[0m \u001b[0mgnb\u001b[0m \u001b[0;34m=\u001b[0m \u001b[0mGaussianNB\u001b[0m\u001b[0;34m(\u001b[0m\u001b[0;34m)\u001b[0m\u001b[0;34m\u001b[0m\u001b[0;34m\u001b[0m\u001b[0m\n\u001b[0;32m----> 4\u001b[0;31m \u001b[0mgnb\u001b[0m\u001b[0;34m.\u001b[0m\u001b[0mfit\u001b[0m\u001b[0;34m(\u001b[0m\u001b[0mX\u001b[0m\u001b[0;34m,\u001b[0m\u001b[0my\u001b[0m\u001b[0;34m)\u001b[0m\u001b[0;34m\u001b[0m\u001b[0;34m\u001b[0m\u001b[0m\n\u001b[0m\u001b[1;32m      5\u001b[0m \u001b[0my_pred\u001b[0m \u001b[0;34m=\u001b[0m \u001b[0mgnb\u001b[0m\u001b[0;34m.\u001b[0m\u001b[0mpredict\u001b[0m\u001b[0;34m(\u001b[0m\u001b[0mX_test\u001b[0m\u001b[0;34m)\u001b[0m\u001b[0;34m\u001b[0m\u001b[0;34m\u001b[0m\u001b[0m\n\u001b[1;32m      6\u001b[0m \u001b[0my_pred\u001b[0m\u001b[0;34m\u001b[0m\u001b[0;34m\u001b[0m\u001b[0m\n",
            "\u001b[0;32m/usr/local/lib/python3.8/dist-packages/sklearn/naive_bayes.py\u001b[0m in \u001b[0;36mfit\u001b[0;34m(self, X, y, sample_weight)\u001b[0m\n\u001b[1;32m    242\u001b[0m             \u001b[0mReturns\u001b[0m \u001b[0mthe\u001b[0m \u001b[0minstance\u001b[0m \u001b[0mitself\u001b[0m\u001b[0;34m.\u001b[0m\u001b[0;34m\u001b[0m\u001b[0;34m\u001b[0m\u001b[0m\n\u001b[1;32m    243\u001b[0m         \"\"\"\n\u001b[0;32m--> 244\u001b[0;31m         \u001b[0my\u001b[0m \u001b[0;34m=\u001b[0m \u001b[0mself\u001b[0m\u001b[0;34m.\u001b[0m\u001b[0m_validate_data\u001b[0m\u001b[0;34m(\u001b[0m\u001b[0my\u001b[0m\u001b[0;34m=\u001b[0m\u001b[0my\u001b[0m\u001b[0;34m)\u001b[0m\u001b[0;34m\u001b[0m\u001b[0;34m\u001b[0m\u001b[0m\n\u001b[0m\u001b[1;32m    245\u001b[0m         return self._partial_fit(\n\u001b[1;32m    246\u001b[0m             \u001b[0mX\u001b[0m\u001b[0;34m,\u001b[0m \u001b[0my\u001b[0m\u001b[0;34m,\u001b[0m \u001b[0mnp\u001b[0m\u001b[0;34m.\u001b[0m\u001b[0munique\u001b[0m\u001b[0;34m(\u001b[0m\u001b[0my\u001b[0m\u001b[0;34m)\u001b[0m\u001b[0;34m,\u001b[0m \u001b[0m_refit\u001b[0m\u001b[0;34m=\u001b[0m\u001b[0;32mTrue\u001b[0m\u001b[0;34m,\u001b[0m \u001b[0msample_weight\u001b[0m\u001b[0;34m=\u001b[0m\u001b[0msample_weight\u001b[0m\u001b[0;34m\u001b[0m\u001b[0;34m\u001b[0m\u001b[0m\n",
            "\u001b[0;32m/usr/local/lib/python3.8/dist-packages/sklearn/base.py\u001b[0m in \u001b[0;36m_validate_data\u001b[0;34m(self, X, y, reset, validate_separately, **check_params)\u001b[0m\n\u001b[1;32m    567\u001b[0m             \u001b[0mout\u001b[0m \u001b[0;34m=\u001b[0m \u001b[0mX\u001b[0m\u001b[0;34m\u001b[0m\u001b[0;34m\u001b[0m\u001b[0m\n\u001b[1;32m    568\u001b[0m         \u001b[0;32melif\u001b[0m \u001b[0mno_val_X\u001b[0m \u001b[0;32mand\u001b[0m \u001b[0;32mnot\u001b[0m \u001b[0mno_val_y\u001b[0m\u001b[0;34m:\u001b[0m\u001b[0;34m\u001b[0m\u001b[0;34m\u001b[0m\u001b[0m\n\u001b[0;32m--> 569\u001b[0;31m             \u001b[0my\u001b[0m \u001b[0;34m=\u001b[0m \u001b[0m_check_y\u001b[0m\u001b[0;34m(\u001b[0m\u001b[0my\u001b[0m\u001b[0;34m,\u001b[0m \u001b[0;34m**\u001b[0m\u001b[0mcheck_params\u001b[0m\u001b[0;34m)\u001b[0m\u001b[0;34m\u001b[0m\u001b[0;34m\u001b[0m\u001b[0m\n\u001b[0m\u001b[1;32m    570\u001b[0m             \u001b[0mout\u001b[0m \u001b[0;34m=\u001b[0m \u001b[0my\u001b[0m\u001b[0;34m\u001b[0m\u001b[0;34m\u001b[0m\u001b[0m\n\u001b[1;32m    571\u001b[0m         \u001b[0;32melse\u001b[0m\u001b[0;34m:\u001b[0m\u001b[0;34m\u001b[0m\u001b[0;34m\u001b[0m\u001b[0m\n",
            "\u001b[0;32m/usr/local/lib/python3.8/dist-packages/sklearn/utils/validation.py\u001b[0m in \u001b[0;36m_check_y\u001b[0;34m(y, multi_output, y_numeric)\u001b[0m\n\u001b[1;32m    991\u001b[0m         )\n\u001b[1;32m    992\u001b[0m     \u001b[0;32melse\u001b[0m\u001b[0;34m:\u001b[0m\u001b[0;34m\u001b[0m\u001b[0;34m\u001b[0m\u001b[0m\n\u001b[0;32m--> 993\u001b[0;31m         \u001b[0my\u001b[0m \u001b[0;34m=\u001b[0m \u001b[0mcolumn_or_1d\u001b[0m\u001b[0;34m(\u001b[0m\u001b[0my\u001b[0m\u001b[0;34m,\u001b[0m \u001b[0mwarn\u001b[0m\u001b[0;34m=\u001b[0m\u001b[0;32mTrue\u001b[0m\u001b[0;34m)\u001b[0m\u001b[0;34m\u001b[0m\u001b[0;34m\u001b[0m\u001b[0m\n\u001b[0m\u001b[1;32m    994\u001b[0m         \u001b[0m_assert_all_finite\u001b[0m\u001b[0;34m(\u001b[0m\u001b[0my\u001b[0m\u001b[0;34m)\u001b[0m\u001b[0;34m\u001b[0m\u001b[0;34m\u001b[0m\u001b[0m\n\u001b[1;32m    995\u001b[0m         \u001b[0m_ensure_no_complex_data\u001b[0m\u001b[0;34m(\u001b[0m\u001b[0my\u001b[0m\u001b[0;34m)\u001b[0m\u001b[0;34m\u001b[0m\u001b[0;34m\u001b[0m\u001b[0m\n",
            "\u001b[0;32m/usr/local/lib/python3.8/dist-packages/sklearn/utils/validation.py\u001b[0m in \u001b[0;36mcolumn_or_1d\u001b[0;34m(y, warn)\u001b[0m\n\u001b[1;32m   1036\u001b[0m         \u001b[0;32mreturn\u001b[0m \u001b[0mnp\u001b[0m\u001b[0;34m.\u001b[0m\u001b[0mravel\u001b[0m\u001b[0;34m(\u001b[0m\u001b[0my\u001b[0m\u001b[0;34m)\u001b[0m\u001b[0;34m\u001b[0m\u001b[0;34m\u001b[0m\u001b[0m\n\u001b[1;32m   1037\u001b[0m \u001b[0;34m\u001b[0m\u001b[0m\n\u001b[0;32m-> 1038\u001b[0;31m     raise ValueError(\n\u001b[0m\u001b[1;32m   1039\u001b[0m         \u001b[0;34m\"y should be a 1d array, got an array of shape {} instead.\"\u001b[0m\u001b[0;34m.\u001b[0m\u001b[0mformat\u001b[0m\u001b[0;34m(\u001b[0m\u001b[0mshape\u001b[0m\u001b[0;34m)\u001b[0m\u001b[0;34m\u001b[0m\u001b[0;34m\u001b[0m\u001b[0m\n\u001b[1;32m   1040\u001b[0m     )\n",
            "\u001b[0;31mValueError\u001b[0m: y should be a 1d array, got an array of shape (301, 2) instead."
          ]
        }
      ]
    },
    {
      "cell_type": "markdown",
      "source": [
        "성과측정(정확도)"
      ],
      "metadata": {
        "id": "yZLnUQdF8mvI"
      }
    },
    {
      "cell_type": "code",
      "source": [
        "gnb.score(X_test,y_test)"
      ],
      "metadata": {
        "id": "FL7GP2V18iRo"
      },
      "execution_count": null,
      "outputs": []
    },
    {
      "cell_type": "markdown",
      "source": [
        "log loss 계산해 보기"
      ],
      "metadata": {
        "id": "ix0P_6Cp8pcA"
      }
    },
    {
      "cell_type": "code",
      "source": [
        "y_prob = gnb.predict_proba(X_test)\n",
        "\n",
        "from sklearn.metrics import log_loss\n",
        "\n",
        "log_loss(y_test, y_prob)"
      ],
      "metadata": {
        "id": "lyOqXKyL8k43"
      },
      "execution_count": null,
      "outputs": []
    },
    {
      "cell_type": "markdown",
      "source": [
        "5겹 교차검증"
      ],
      "metadata": {
        "id": "U2SzIAc58tfL"
      }
    },
    {
      "cell_type": "code",
      "source": [
        "gnb = GaussianNB() \n",
        "\n",
        "scores = cross_val_score(gnb, X, y, scoring='roc_auc', cv=5)\n",
        "scores.mean()"
      ],
      "metadata": {
        "id": "K1rruGcK8vfy"
      },
      "execution_count": null,
      "outputs": []
    },
    {
      "cell_type": "markdown",
      "source": [
        "# SVM학습"
      ],
      "metadata": {
        "id": "zqLa-iRP4cxh"
      }
    },
    {
      "cell_type": "code",
      "source": [
        "from sklearn.svm import LinearSVC\n",
        "from sklearn.model_selection import cross_val_score\n",
        "\n",
        "linear_svm = LinearSVC(C=1, max_iter = 10000)\n",
        "linear_svm.fit(X,y)"
      ],
      "metadata": {
        "id": "KB8DsHjJVsYP",
        "colab": {
          "base_uri": "https://localhost:8080/",
          "height": 363
        },
        "outputId": "dfdf011d-f28a-4a65-e612-79c11cda611b"
      },
      "execution_count": 55,
      "outputs": [
        {
          "output_type": "error",
          "ename": "ValueError",
          "evalue": "ignored",
          "traceback": [
            "\u001b[0;31m---------------------------------------------------------------------------\u001b[0m",
            "\u001b[0;31mValueError\u001b[0m                                Traceback (most recent call last)",
            "\u001b[0;32m<ipython-input-55-346dc31246f5>\u001b[0m in \u001b[0;36m<module>\u001b[0;34m\u001b[0m\n\u001b[1;32m      3\u001b[0m \u001b[0;34m\u001b[0m\u001b[0m\n\u001b[1;32m      4\u001b[0m \u001b[0mlinear_svm\u001b[0m \u001b[0;34m=\u001b[0m \u001b[0mLinearSVC\u001b[0m\u001b[0;34m(\u001b[0m\u001b[0mC\u001b[0m\u001b[0;34m=\u001b[0m\u001b[0;36m1\u001b[0m\u001b[0;34m,\u001b[0m \u001b[0mmax_iter\u001b[0m \u001b[0;34m=\u001b[0m \u001b[0;36m10000\u001b[0m\u001b[0;34m)\u001b[0m\u001b[0;34m\u001b[0m\u001b[0;34m\u001b[0m\u001b[0m\n\u001b[0;32m----> 5\u001b[0;31m \u001b[0mlinear_svm\u001b[0m\u001b[0;34m.\u001b[0m\u001b[0mfit\u001b[0m\u001b[0;34m(\u001b[0m\u001b[0mX\u001b[0m\u001b[0;34m,\u001b[0m\u001b[0my\u001b[0m\u001b[0;34m)\u001b[0m\u001b[0;34m\u001b[0m\u001b[0;34m\u001b[0m\u001b[0m\n\u001b[0m",
            "\u001b[0;32m/usr/local/lib/python3.8/dist-packages/sklearn/svm/_classes.py\u001b[0m in \u001b[0;36mfit\u001b[0;34m(self, X, y, sample_weight)\u001b[0m\n\u001b[1;32m    244\u001b[0m             \u001b[0;32mraise\u001b[0m \u001b[0mValueError\u001b[0m\u001b[0;34m(\u001b[0m\u001b[0;34m\"Penalty term must be positive; got (C=%r)\"\u001b[0m \u001b[0;34m%\u001b[0m \u001b[0mself\u001b[0m\u001b[0;34m.\u001b[0m\u001b[0mC\u001b[0m\u001b[0;34m)\u001b[0m\u001b[0;34m\u001b[0m\u001b[0;34m\u001b[0m\u001b[0m\n\u001b[1;32m    245\u001b[0m \u001b[0;34m\u001b[0m\u001b[0m\n\u001b[0;32m--> 246\u001b[0;31m         X, y = self._validate_data(\n\u001b[0m\u001b[1;32m    247\u001b[0m             \u001b[0mX\u001b[0m\u001b[0;34m,\u001b[0m\u001b[0;34m\u001b[0m\u001b[0;34m\u001b[0m\u001b[0m\n\u001b[1;32m    248\u001b[0m             \u001b[0my\u001b[0m\u001b[0;34m,\u001b[0m\u001b[0;34m\u001b[0m\u001b[0;34m\u001b[0m\u001b[0m\n",
            "\u001b[0;32m/usr/local/lib/python3.8/dist-packages/sklearn/base.py\u001b[0m in \u001b[0;36m_validate_data\u001b[0;34m(self, X, y, reset, validate_separately, **check_params)\u001b[0m\n\u001b[1;32m    579\u001b[0m                 \u001b[0my\u001b[0m \u001b[0;34m=\u001b[0m \u001b[0mcheck_array\u001b[0m\u001b[0;34m(\u001b[0m\u001b[0my\u001b[0m\u001b[0;34m,\u001b[0m \u001b[0;34m**\u001b[0m\u001b[0mcheck_y_params\u001b[0m\u001b[0;34m)\u001b[0m\u001b[0;34m\u001b[0m\u001b[0;34m\u001b[0m\u001b[0m\n\u001b[1;32m    580\u001b[0m             \u001b[0;32melse\u001b[0m\u001b[0;34m:\u001b[0m\u001b[0;34m\u001b[0m\u001b[0;34m\u001b[0m\u001b[0m\n\u001b[0;32m--> 581\u001b[0;31m                 \u001b[0mX\u001b[0m\u001b[0;34m,\u001b[0m \u001b[0my\u001b[0m \u001b[0;34m=\u001b[0m \u001b[0mcheck_X_y\u001b[0m\u001b[0;34m(\u001b[0m\u001b[0mX\u001b[0m\u001b[0;34m,\u001b[0m \u001b[0my\u001b[0m\u001b[0;34m,\u001b[0m \u001b[0;34m**\u001b[0m\u001b[0mcheck_params\u001b[0m\u001b[0;34m)\u001b[0m\u001b[0;34m\u001b[0m\u001b[0;34m\u001b[0m\u001b[0m\n\u001b[0m\u001b[1;32m    582\u001b[0m             \u001b[0mout\u001b[0m \u001b[0;34m=\u001b[0m \u001b[0mX\u001b[0m\u001b[0;34m,\u001b[0m \u001b[0my\u001b[0m\u001b[0;34m\u001b[0m\u001b[0;34m\u001b[0m\u001b[0m\n\u001b[1;32m    583\u001b[0m \u001b[0;34m\u001b[0m\u001b[0m\n",
            "\u001b[0;32m/usr/local/lib/python3.8/dist-packages/sklearn/utils/validation.py\u001b[0m in \u001b[0;36mcheck_X_y\u001b[0;34m(X, y, accept_sparse, accept_large_sparse, dtype, order, copy, force_all_finite, ensure_2d, allow_nd, multi_output, ensure_min_samples, ensure_min_features, y_numeric, estimator)\u001b[0m\n\u001b[1;32m    977\u001b[0m     )\n\u001b[1;32m    978\u001b[0m \u001b[0;34m\u001b[0m\u001b[0m\n\u001b[0;32m--> 979\u001b[0;31m     \u001b[0my\u001b[0m \u001b[0;34m=\u001b[0m \u001b[0m_check_y\u001b[0m\u001b[0;34m(\u001b[0m\u001b[0my\u001b[0m\u001b[0;34m,\u001b[0m \u001b[0mmulti_output\u001b[0m\u001b[0;34m=\u001b[0m\u001b[0mmulti_output\u001b[0m\u001b[0;34m,\u001b[0m \u001b[0my_numeric\u001b[0m\u001b[0;34m=\u001b[0m\u001b[0my_numeric\u001b[0m\u001b[0;34m)\u001b[0m\u001b[0;34m\u001b[0m\u001b[0;34m\u001b[0m\u001b[0m\n\u001b[0m\u001b[1;32m    980\u001b[0m \u001b[0;34m\u001b[0m\u001b[0m\n\u001b[1;32m    981\u001b[0m     \u001b[0mcheck_consistent_length\u001b[0m\u001b[0;34m(\u001b[0m\u001b[0mX\u001b[0m\u001b[0;34m,\u001b[0m \u001b[0my\u001b[0m\u001b[0;34m)\u001b[0m\u001b[0;34m\u001b[0m\u001b[0;34m\u001b[0m\u001b[0m\n",
            "\u001b[0;32m/usr/local/lib/python3.8/dist-packages/sklearn/utils/validation.py\u001b[0m in \u001b[0;36m_check_y\u001b[0;34m(y, multi_output, y_numeric)\u001b[0m\n\u001b[1;32m    991\u001b[0m         )\n\u001b[1;32m    992\u001b[0m     \u001b[0;32melse\u001b[0m\u001b[0;34m:\u001b[0m\u001b[0;34m\u001b[0m\u001b[0;34m\u001b[0m\u001b[0m\n\u001b[0;32m--> 993\u001b[0;31m         \u001b[0my\u001b[0m \u001b[0;34m=\u001b[0m \u001b[0mcolumn_or_1d\u001b[0m\u001b[0;34m(\u001b[0m\u001b[0my\u001b[0m\u001b[0;34m,\u001b[0m \u001b[0mwarn\u001b[0m\u001b[0;34m=\u001b[0m\u001b[0;32mTrue\u001b[0m\u001b[0;34m)\u001b[0m\u001b[0;34m\u001b[0m\u001b[0;34m\u001b[0m\u001b[0m\n\u001b[0m\u001b[1;32m    994\u001b[0m         \u001b[0m_assert_all_finite\u001b[0m\u001b[0;34m(\u001b[0m\u001b[0my\u001b[0m\u001b[0;34m)\u001b[0m\u001b[0;34m\u001b[0m\u001b[0;34m\u001b[0m\u001b[0m\n\u001b[1;32m    995\u001b[0m         \u001b[0m_ensure_no_complex_data\u001b[0m\u001b[0;34m(\u001b[0m\u001b[0my\u001b[0m\u001b[0;34m)\u001b[0m\u001b[0;34m\u001b[0m\u001b[0;34m\u001b[0m\u001b[0m\n",
            "\u001b[0;32m/usr/local/lib/python3.8/dist-packages/sklearn/utils/validation.py\u001b[0m in \u001b[0;36mcolumn_or_1d\u001b[0;34m(y, warn)\u001b[0m\n\u001b[1;32m   1036\u001b[0m         \u001b[0;32mreturn\u001b[0m \u001b[0mnp\u001b[0m\u001b[0;34m.\u001b[0m\u001b[0mravel\u001b[0m\u001b[0;34m(\u001b[0m\u001b[0my\u001b[0m\u001b[0;34m)\u001b[0m\u001b[0;34m\u001b[0m\u001b[0;34m\u001b[0m\u001b[0m\n\u001b[1;32m   1037\u001b[0m \u001b[0;34m\u001b[0m\u001b[0m\n\u001b[0;32m-> 1038\u001b[0;31m     raise ValueError(\n\u001b[0m\u001b[1;32m   1039\u001b[0m         \u001b[0;34m\"y should be a 1d array, got an array of shape {} instead.\"\u001b[0m\u001b[0;34m.\u001b[0m\u001b[0mformat\u001b[0m\u001b[0;34m(\u001b[0m\u001b[0mshape\u001b[0m\u001b[0;34m)\u001b[0m\u001b[0;34m\u001b[0m\u001b[0;34m\u001b[0m\u001b[0m\n\u001b[1;32m   1040\u001b[0m     )\n",
            "\u001b[0;31mValueError\u001b[0m: y should be a 1d array, got an array of shape (301, 2) instead."
          ]
        }
      ]
    },
    {
      "cell_type": "code",
      "source": [
        "print(\"Predictions: {}\".format(linear_svm.predict(X_test))) \n",
        "print(\"Accuracy: {}\".format(linear_svm.score(X_test, y_test)))"
      ],
      "metadata": {
        "id": "5C_E1yjLV27g"
      },
      "execution_count": null,
      "outputs": []
    },
    {
      "cell_type": "code",
      "source": [
        "linear_svm = LinearSVC(C=1)\n",
        "scores = cross_val_score(linear_svm, X_test, y_test, scoring='roc_auc',cv=5)\n",
        "scores.mean()"
      ],
      "metadata": {
        "id": "HaxkS6Mu9E_a"
      },
      "execution_count": null,
      "outputs": []
    },
    {
      "cell_type": "markdown",
      "source": [
        "#다항식 커널"
      ],
      "metadata": {
        "id": "h62U6fvr_cre"
      }
    },
    {
      "cell_type": "code",
      "source": [
        "from sklearn.svm import SVC\n",
        "\n",
        "svm_clf = SVC(kernel=\"poly\", degree=3, coef0=1, C=5) "
      ],
      "metadata": {
        "id": "RnH4LkcU9E8Z"
      },
      "execution_count": 59,
      "outputs": []
    },
    {
      "cell_type": "code",
      "source": [
        "svm_clf.fit(X,y)"
      ],
      "metadata": {
        "colab": {
          "base_uri": "https://localhost:8080/",
          "height": 327
        },
        "id": "AqA9CUsq9E5e",
        "outputId": "1d5f3a43-7c1a-42fc-9362-8a99aca2110d"
      },
      "execution_count": 60,
      "outputs": [
        {
          "output_type": "error",
          "ename": "ValueError",
          "evalue": "ignored",
          "traceback": [
            "\u001b[0;31m---------------------------------------------------------------------------\u001b[0m",
            "\u001b[0;31mValueError\u001b[0m                                Traceback (most recent call last)",
            "\u001b[0;32m<ipython-input-60-fcc3f04c974d>\u001b[0m in \u001b[0;36m<module>\u001b[0;34m\u001b[0m\n\u001b[0;32m----> 1\u001b[0;31m \u001b[0msvm_clf\u001b[0m\u001b[0;34m.\u001b[0m\u001b[0mfit\u001b[0m\u001b[0;34m(\u001b[0m\u001b[0mX\u001b[0m\u001b[0;34m,\u001b[0m\u001b[0my\u001b[0m\u001b[0;34m)\u001b[0m\u001b[0;34m\u001b[0m\u001b[0;34m\u001b[0m\u001b[0m\n\u001b[0m",
            "\u001b[0;32m/usr/local/lib/python3.8/dist-packages/sklearn/svm/_base.py\u001b[0m in \u001b[0;36mfit\u001b[0;34m(self, X, y, sample_weight)\u001b[0m\n\u001b[1;32m    188\u001b[0m             \u001b[0mcheck_consistent_length\u001b[0m\u001b[0;34m(\u001b[0m\u001b[0mX\u001b[0m\u001b[0;34m,\u001b[0m \u001b[0my\u001b[0m\u001b[0;34m)\u001b[0m\u001b[0;34m\u001b[0m\u001b[0;34m\u001b[0m\u001b[0m\n\u001b[1;32m    189\u001b[0m         \u001b[0;32melse\u001b[0m\u001b[0;34m:\u001b[0m\u001b[0;34m\u001b[0m\u001b[0;34m\u001b[0m\u001b[0m\n\u001b[0;32m--> 190\u001b[0;31m             X, y = self._validate_data(\n\u001b[0m\u001b[1;32m    191\u001b[0m                 \u001b[0mX\u001b[0m\u001b[0;34m,\u001b[0m\u001b[0;34m\u001b[0m\u001b[0;34m\u001b[0m\u001b[0m\n\u001b[1;32m    192\u001b[0m                 \u001b[0my\u001b[0m\u001b[0;34m,\u001b[0m\u001b[0;34m\u001b[0m\u001b[0;34m\u001b[0m\u001b[0m\n",
            "\u001b[0;32m/usr/local/lib/python3.8/dist-packages/sklearn/base.py\u001b[0m in \u001b[0;36m_validate_data\u001b[0;34m(self, X, y, reset, validate_separately, **check_params)\u001b[0m\n\u001b[1;32m    579\u001b[0m                 \u001b[0my\u001b[0m \u001b[0;34m=\u001b[0m \u001b[0mcheck_array\u001b[0m\u001b[0;34m(\u001b[0m\u001b[0my\u001b[0m\u001b[0;34m,\u001b[0m \u001b[0;34m**\u001b[0m\u001b[0mcheck_y_params\u001b[0m\u001b[0;34m)\u001b[0m\u001b[0;34m\u001b[0m\u001b[0;34m\u001b[0m\u001b[0m\n\u001b[1;32m    580\u001b[0m             \u001b[0;32melse\u001b[0m\u001b[0;34m:\u001b[0m\u001b[0;34m\u001b[0m\u001b[0;34m\u001b[0m\u001b[0m\n\u001b[0;32m--> 581\u001b[0;31m                 \u001b[0mX\u001b[0m\u001b[0;34m,\u001b[0m \u001b[0my\u001b[0m \u001b[0;34m=\u001b[0m \u001b[0mcheck_X_y\u001b[0m\u001b[0;34m(\u001b[0m\u001b[0mX\u001b[0m\u001b[0;34m,\u001b[0m \u001b[0my\u001b[0m\u001b[0;34m,\u001b[0m \u001b[0;34m**\u001b[0m\u001b[0mcheck_params\u001b[0m\u001b[0;34m)\u001b[0m\u001b[0;34m\u001b[0m\u001b[0;34m\u001b[0m\u001b[0m\n\u001b[0m\u001b[1;32m    582\u001b[0m             \u001b[0mout\u001b[0m \u001b[0;34m=\u001b[0m \u001b[0mX\u001b[0m\u001b[0;34m,\u001b[0m \u001b[0my\u001b[0m\u001b[0;34m\u001b[0m\u001b[0;34m\u001b[0m\u001b[0m\n\u001b[1;32m    583\u001b[0m \u001b[0;34m\u001b[0m\u001b[0m\n",
            "\u001b[0;32m/usr/local/lib/python3.8/dist-packages/sklearn/utils/validation.py\u001b[0m in \u001b[0;36mcheck_X_y\u001b[0;34m(X, y, accept_sparse, accept_large_sparse, dtype, order, copy, force_all_finite, ensure_2d, allow_nd, multi_output, ensure_min_samples, ensure_min_features, y_numeric, estimator)\u001b[0m\n\u001b[1;32m    977\u001b[0m     )\n\u001b[1;32m    978\u001b[0m \u001b[0;34m\u001b[0m\u001b[0m\n\u001b[0;32m--> 979\u001b[0;31m     \u001b[0my\u001b[0m \u001b[0;34m=\u001b[0m \u001b[0m_check_y\u001b[0m\u001b[0;34m(\u001b[0m\u001b[0my\u001b[0m\u001b[0;34m,\u001b[0m \u001b[0mmulti_output\u001b[0m\u001b[0;34m=\u001b[0m\u001b[0mmulti_output\u001b[0m\u001b[0;34m,\u001b[0m \u001b[0my_numeric\u001b[0m\u001b[0;34m=\u001b[0m\u001b[0my_numeric\u001b[0m\u001b[0;34m)\u001b[0m\u001b[0;34m\u001b[0m\u001b[0;34m\u001b[0m\u001b[0m\n\u001b[0m\u001b[1;32m    980\u001b[0m \u001b[0;34m\u001b[0m\u001b[0m\n\u001b[1;32m    981\u001b[0m     \u001b[0mcheck_consistent_length\u001b[0m\u001b[0;34m(\u001b[0m\u001b[0mX\u001b[0m\u001b[0;34m,\u001b[0m \u001b[0my\u001b[0m\u001b[0;34m)\u001b[0m\u001b[0;34m\u001b[0m\u001b[0;34m\u001b[0m\u001b[0m\n",
            "\u001b[0;32m/usr/local/lib/python3.8/dist-packages/sklearn/utils/validation.py\u001b[0m in \u001b[0;36m_check_y\u001b[0;34m(y, multi_output, y_numeric)\u001b[0m\n\u001b[1;32m    991\u001b[0m         )\n\u001b[1;32m    992\u001b[0m     \u001b[0;32melse\u001b[0m\u001b[0;34m:\u001b[0m\u001b[0;34m\u001b[0m\u001b[0;34m\u001b[0m\u001b[0m\n\u001b[0;32m--> 993\u001b[0;31m         \u001b[0my\u001b[0m \u001b[0;34m=\u001b[0m \u001b[0mcolumn_or_1d\u001b[0m\u001b[0;34m(\u001b[0m\u001b[0my\u001b[0m\u001b[0;34m,\u001b[0m \u001b[0mwarn\u001b[0m\u001b[0;34m=\u001b[0m\u001b[0;32mTrue\u001b[0m\u001b[0;34m)\u001b[0m\u001b[0;34m\u001b[0m\u001b[0;34m\u001b[0m\u001b[0m\n\u001b[0m\u001b[1;32m    994\u001b[0m         \u001b[0m_assert_all_finite\u001b[0m\u001b[0;34m(\u001b[0m\u001b[0my\u001b[0m\u001b[0;34m)\u001b[0m\u001b[0;34m\u001b[0m\u001b[0;34m\u001b[0m\u001b[0m\n\u001b[1;32m    995\u001b[0m         \u001b[0m_ensure_no_complex_data\u001b[0m\u001b[0;34m(\u001b[0m\u001b[0my\u001b[0m\u001b[0;34m)\u001b[0m\u001b[0;34m\u001b[0m\u001b[0;34m\u001b[0m\u001b[0m\n",
            "\u001b[0;32m/usr/local/lib/python3.8/dist-packages/sklearn/utils/validation.py\u001b[0m in \u001b[0;36mcolumn_or_1d\u001b[0;34m(y, warn)\u001b[0m\n\u001b[1;32m   1036\u001b[0m         \u001b[0;32mreturn\u001b[0m \u001b[0mnp\u001b[0m\u001b[0;34m.\u001b[0m\u001b[0mravel\u001b[0m\u001b[0;34m(\u001b[0m\u001b[0my\u001b[0m\u001b[0;34m)\u001b[0m\u001b[0;34m\u001b[0m\u001b[0;34m\u001b[0m\u001b[0m\n\u001b[1;32m   1037\u001b[0m \u001b[0;34m\u001b[0m\u001b[0m\n\u001b[0;32m-> 1038\u001b[0;31m     raise ValueError(\n\u001b[0m\u001b[1;32m   1039\u001b[0m         \u001b[0;34m\"y should be a 1d array, got an array of shape {} instead.\"\u001b[0m\u001b[0;34m.\u001b[0m\u001b[0mformat\u001b[0m\u001b[0;34m(\u001b[0m\u001b[0mshape\u001b[0m\u001b[0;34m)\u001b[0m\u001b[0;34m\u001b[0m\u001b[0;34m\u001b[0m\u001b[0m\n\u001b[1;32m   1040\u001b[0m     )\n",
            "\u001b[0;31mValueError\u001b[0m: y should be a 1d array, got an array of shape (301, 2) instead."
          ]
        }
      ]
    },
    {
      "cell_type": "code",
      "source": [
        "y_pred = svm_clf.predict(X_test)\n",
        "print(\"Accuracy: {}\".format(svm_clf.score(X_test, y_test)))"
      ],
      "metadata": {
        "id": "75QoJTRT9E2b"
      },
      "execution_count": null,
      "outputs": []
    },
    {
      "cell_type": "code",
      "source": [
        "precision_score(y_test,y_pred)"
      ],
      "metadata": {
        "id": "SpIp_e5M9EzK"
      },
      "execution_count": null,
      "outputs": []
    },
    {
      "cell_type": "code",
      "source": [
        "recall_score(y_test,y_pred)"
      ],
      "metadata": {
        "id": "cqZ5MjLo9EwU"
      },
      "execution_count": null,
      "outputs": []
    },
    {
      "cell_type": "code",
      "source": [
        "f1_score(y_test,y_pred)"
      ],
      "metadata": {
        "id": "KHWJonQM9EtU"
      },
      "execution_count": null,
      "outputs": []
    },
    {
      "cell_type": "code",
      "source": [
        "scores = cross_val_score(svm_clf, X, y, scoring='roc_auc',cv=5)\n",
        "scores.mean()"
      ],
      "metadata": {
        "id": "iqvtaCTqAEPP"
      },
      "execution_count": null,
      "outputs": []
    },
    {
      "cell_type": "markdown",
      "source": [
        "# rbf 커널"
      ],
      "metadata": {
        "id": "dpWlthnfAM_l"
      }
    },
    {
      "cell_type": "code",
      "source": [
        "rbf_svm_clf = SVC(kernel=\"rbf\", gamma=5, C=0.001) "
      ],
      "metadata": {
        "id": "1XEjox1bAELm"
      },
      "execution_count": 61,
      "outputs": []
    },
    {
      "cell_type": "code",
      "source": [
        "rbf_svm_clf.fit(X,y)"
      ],
      "metadata": {
        "colab": {
          "base_uri": "https://localhost:8080/",
          "height": 327
        },
        "id": "fAb2msMCAEIP",
        "outputId": "73fea489-b09c-4f0d-f1d7-7b952b05884d"
      },
      "execution_count": 62,
      "outputs": [
        {
          "output_type": "error",
          "ename": "ValueError",
          "evalue": "ignored",
          "traceback": [
            "\u001b[0;31m---------------------------------------------------------------------------\u001b[0m",
            "\u001b[0;31mValueError\u001b[0m                                Traceback (most recent call last)",
            "\u001b[0;32m<ipython-input-62-b078cdfbd30f>\u001b[0m in \u001b[0;36m<module>\u001b[0;34m\u001b[0m\n\u001b[0;32m----> 1\u001b[0;31m \u001b[0mrbf_svm_clf\u001b[0m\u001b[0;34m.\u001b[0m\u001b[0mfit\u001b[0m\u001b[0;34m(\u001b[0m\u001b[0mX\u001b[0m\u001b[0;34m,\u001b[0m\u001b[0my\u001b[0m\u001b[0;34m)\u001b[0m\u001b[0;34m\u001b[0m\u001b[0;34m\u001b[0m\u001b[0m\n\u001b[0m",
            "\u001b[0;32m/usr/local/lib/python3.8/dist-packages/sklearn/svm/_base.py\u001b[0m in \u001b[0;36mfit\u001b[0;34m(self, X, y, sample_weight)\u001b[0m\n\u001b[1;32m    188\u001b[0m             \u001b[0mcheck_consistent_length\u001b[0m\u001b[0;34m(\u001b[0m\u001b[0mX\u001b[0m\u001b[0;34m,\u001b[0m \u001b[0my\u001b[0m\u001b[0;34m)\u001b[0m\u001b[0;34m\u001b[0m\u001b[0;34m\u001b[0m\u001b[0m\n\u001b[1;32m    189\u001b[0m         \u001b[0;32melse\u001b[0m\u001b[0;34m:\u001b[0m\u001b[0;34m\u001b[0m\u001b[0;34m\u001b[0m\u001b[0m\n\u001b[0;32m--> 190\u001b[0;31m             X, y = self._validate_data(\n\u001b[0m\u001b[1;32m    191\u001b[0m                 \u001b[0mX\u001b[0m\u001b[0;34m,\u001b[0m\u001b[0;34m\u001b[0m\u001b[0;34m\u001b[0m\u001b[0m\n\u001b[1;32m    192\u001b[0m                 \u001b[0my\u001b[0m\u001b[0;34m,\u001b[0m\u001b[0;34m\u001b[0m\u001b[0;34m\u001b[0m\u001b[0m\n",
            "\u001b[0;32m/usr/local/lib/python3.8/dist-packages/sklearn/base.py\u001b[0m in \u001b[0;36m_validate_data\u001b[0;34m(self, X, y, reset, validate_separately, **check_params)\u001b[0m\n\u001b[1;32m    579\u001b[0m                 \u001b[0my\u001b[0m \u001b[0;34m=\u001b[0m \u001b[0mcheck_array\u001b[0m\u001b[0;34m(\u001b[0m\u001b[0my\u001b[0m\u001b[0;34m,\u001b[0m \u001b[0;34m**\u001b[0m\u001b[0mcheck_y_params\u001b[0m\u001b[0;34m)\u001b[0m\u001b[0;34m\u001b[0m\u001b[0;34m\u001b[0m\u001b[0m\n\u001b[1;32m    580\u001b[0m             \u001b[0;32melse\u001b[0m\u001b[0;34m:\u001b[0m\u001b[0;34m\u001b[0m\u001b[0;34m\u001b[0m\u001b[0m\n\u001b[0;32m--> 581\u001b[0;31m                 \u001b[0mX\u001b[0m\u001b[0;34m,\u001b[0m \u001b[0my\u001b[0m \u001b[0;34m=\u001b[0m \u001b[0mcheck_X_y\u001b[0m\u001b[0;34m(\u001b[0m\u001b[0mX\u001b[0m\u001b[0;34m,\u001b[0m \u001b[0my\u001b[0m\u001b[0;34m,\u001b[0m \u001b[0;34m**\u001b[0m\u001b[0mcheck_params\u001b[0m\u001b[0;34m)\u001b[0m\u001b[0;34m\u001b[0m\u001b[0;34m\u001b[0m\u001b[0m\n\u001b[0m\u001b[1;32m    582\u001b[0m             \u001b[0mout\u001b[0m \u001b[0;34m=\u001b[0m \u001b[0mX\u001b[0m\u001b[0;34m,\u001b[0m \u001b[0my\u001b[0m\u001b[0;34m\u001b[0m\u001b[0;34m\u001b[0m\u001b[0m\n\u001b[1;32m    583\u001b[0m \u001b[0;34m\u001b[0m\u001b[0m\n",
            "\u001b[0;32m/usr/local/lib/python3.8/dist-packages/sklearn/utils/validation.py\u001b[0m in \u001b[0;36mcheck_X_y\u001b[0;34m(X, y, accept_sparse, accept_large_sparse, dtype, order, copy, force_all_finite, ensure_2d, allow_nd, multi_output, ensure_min_samples, ensure_min_features, y_numeric, estimator)\u001b[0m\n\u001b[1;32m    977\u001b[0m     )\n\u001b[1;32m    978\u001b[0m \u001b[0;34m\u001b[0m\u001b[0m\n\u001b[0;32m--> 979\u001b[0;31m     \u001b[0my\u001b[0m \u001b[0;34m=\u001b[0m \u001b[0m_check_y\u001b[0m\u001b[0;34m(\u001b[0m\u001b[0my\u001b[0m\u001b[0;34m,\u001b[0m \u001b[0mmulti_output\u001b[0m\u001b[0;34m=\u001b[0m\u001b[0mmulti_output\u001b[0m\u001b[0;34m,\u001b[0m \u001b[0my_numeric\u001b[0m\u001b[0;34m=\u001b[0m\u001b[0my_numeric\u001b[0m\u001b[0;34m)\u001b[0m\u001b[0;34m\u001b[0m\u001b[0;34m\u001b[0m\u001b[0m\n\u001b[0m\u001b[1;32m    980\u001b[0m \u001b[0;34m\u001b[0m\u001b[0m\n\u001b[1;32m    981\u001b[0m     \u001b[0mcheck_consistent_length\u001b[0m\u001b[0;34m(\u001b[0m\u001b[0mX\u001b[0m\u001b[0;34m,\u001b[0m \u001b[0my\u001b[0m\u001b[0;34m)\u001b[0m\u001b[0;34m\u001b[0m\u001b[0;34m\u001b[0m\u001b[0m\n",
            "\u001b[0;32m/usr/local/lib/python3.8/dist-packages/sklearn/utils/validation.py\u001b[0m in \u001b[0;36m_check_y\u001b[0;34m(y, multi_output, y_numeric)\u001b[0m\n\u001b[1;32m    991\u001b[0m         )\n\u001b[1;32m    992\u001b[0m     \u001b[0;32melse\u001b[0m\u001b[0;34m:\u001b[0m\u001b[0;34m\u001b[0m\u001b[0;34m\u001b[0m\u001b[0m\n\u001b[0;32m--> 993\u001b[0;31m         \u001b[0my\u001b[0m \u001b[0;34m=\u001b[0m \u001b[0mcolumn_or_1d\u001b[0m\u001b[0;34m(\u001b[0m\u001b[0my\u001b[0m\u001b[0;34m,\u001b[0m \u001b[0mwarn\u001b[0m\u001b[0;34m=\u001b[0m\u001b[0;32mTrue\u001b[0m\u001b[0;34m)\u001b[0m\u001b[0;34m\u001b[0m\u001b[0;34m\u001b[0m\u001b[0m\n\u001b[0m\u001b[1;32m    994\u001b[0m         \u001b[0m_assert_all_finite\u001b[0m\u001b[0;34m(\u001b[0m\u001b[0my\u001b[0m\u001b[0;34m)\u001b[0m\u001b[0;34m\u001b[0m\u001b[0;34m\u001b[0m\u001b[0m\n\u001b[1;32m    995\u001b[0m         \u001b[0m_ensure_no_complex_data\u001b[0m\u001b[0;34m(\u001b[0m\u001b[0my\u001b[0m\u001b[0;34m)\u001b[0m\u001b[0;34m\u001b[0m\u001b[0;34m\u001b[0m\u001b[0m\n",
            "\u001b[0;32m/usr/local/lib/python3.8/dist-packages/sklearn/utils/validation.py\u001b[0m in \u001b[0;36mcolumn_or_1d\u001b[0;34m(y, warn)\u001b[0m\n\u001b[1;32m   1036\u001b[0m         \u001b[0;32mreturn\u001b[0m \u001b[0mnp\u001b[0m\u001b[0;34m.\u001b[0m\u001b[0mravel\u001b[0m\u001b[0;34m(\u001b[0m\u001b[0my\u001b[0m\u001b[0;34m)\u001b[0m\u001b[0;34m\u001b[0m\u001b[0;34m\u001b[0m\u001b[0m\n\u001b[1;32m   1037\u001b[0m \u001b[0;34m\u001b[0m\u001b[0m\n\u001b[0;32m-> 1038\u001b[0;31m     raise ValueError(\n\u001b[0m\u001b[1;32m   1039\u001b[0m         \u001b[0;34m\"y should be a 1d array, got an array of shape {} instead.\"\u001b[0m\u001b[0;34m.\u001b[0m\u001b[0mformat\u001b[0m\u001b[0;34m(\u001b[0m\u001b[0mshape\u001b[0m\u001b[0;34m)\u001b[0m\u001b[0;34m\u001b[0m\u001b[0;34m\u001b[0m\u001b[0m\n\u001b[1;32m   1040\u001b[0m     )\n",
            "\u001b[0;31mValueError\u001b[0m: y should be a 1d array, got an array of shape (301, 2) instead."
          ]
        }
      ]
    },
    {
      "cell_type": "code",
      "source": [
        "y_pred = rbf_svm_clf.predict(X_test)\n",
        "print(\"Accuracy: {}\".format(rbf_svm_clf.score(X_test, y_test)))"
      ],
      "metadata": {
        "id": "iIVu9vPRAEFX"
      },
      "execution_count": null,
      "outputs": []
    },
    {
      "cell_type": "code",
      "source": [
        "precision_score(y_test,y_pred)\n",
        "recall_score(y_test,y_pred)\n",
        "f1_score(y_test,y_pred)"
      ],
      "metadata": {
        "id": "ESgSUzVcAECG"
      },
      "execution_count": null,
      "outputs": []
    },
    {
      "cell_type": "code",
      "source": [
        "scores = cross_val_score(rbf_svm_clf, X, y, scoring='roc_auc',cv=5)\n",
        "scores.mean()"
      ],
      "metadata": {
        "id": "aoG07FGVAD-f"
      },
      "execution_count": null,
      "outputs": []
    },
    {
      "cell_type": "code",
      "source": [],
      "metadata": {
        "id": "weGOZHIIAnyL"
      },
      "execution_count": null,
      "outputs": []
    },
    {
      "cell_type": "code",
      "source": [],
      "metadata": {
        "id": "bv3_0FIoAnt3"
      },
      "execution_count": null,
      "outputs": []
    },
    {
      "cell_type": "code",
      "source": [],
      "metadata": {
        "id": "EcqNfu0zAnqP"
      },
      "execution_count": null,
      "outputs": []
    },
    {
      "cell_type": "code",
      "source": [],
      "metadata": {
        "id": "VNBtxa68Anmz"
      },
      "execution_count": null,
      "outputs": []
    },
    {
      "cell_type": "code",
      "source": [],
      "metadata": {
        "id": "egiBexMOAD7b"
      },
      "execution_count": null,
      "outputs": []
    },
    {
      "cell_type": "code",
      "source": [],
      "metadata": {
        "id": "kkVUV8UiAD4Y"
      },
      "execution_count": null,
      "outputs": []
    },
    {
      "cell_type": "code",
      "source": [],
      "metadata": {
        "id": "C7hNdcDZAD1L"
      },
      "execution_count": null,
      "outputs": []
    }
  ]
}